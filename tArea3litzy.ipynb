{
  "nbformat": 4,
  "nbformat_minor": 0,
  "metadata": {
    "colab": {
      "provenance": [],
      "authorship_tag": "ABX9TyPmIv5swel099f5YkUnUjht",
      "include_colab_link": true
    },
    "kernelspec": {
      "name": "python3",
      "display_name": "Python 3"
    },
    "language_info": {
      "name": "python"
    }
  },
  "cells": [
    {
      "cell_type": "markdown",
      "metadata": {
        "id": "view-in-github",
        "colab_type": "text"
      },
      "source": [
        "<a href=\"https://colab.research.google.com/github/SugaarTea/AlgebraLineal/blob/main/tArea3litzy.ipynb\" target=\"_parent\"><img src=\"https://colab.research.google.com/assets/colab-badge.svg\" alt=\"Open In Colab\"/></a>"
      ]
    },
    {
      "cell_type": "code",
      "execution_count": null,
      "metadata": {
        "colab": {
          "base_uri": "https://localhost:8080/"
        },
        "id": "N3oU1zc_hlfu",
        "outputId": "38d35fc9-36eb-4db3-8fe3-5d726835a0c4"
      },
      "outputs": [
        {
          "output_type": "stream",
          "name": "stdout",
          "text": [
            "Collecting nacal\n",
            "  Downloading nacal-0.2.1-py3-none-any.whl (40 kB)\n",
            "\u001b[2K     \u001b[90m━━━━━━━━━━━━━━━━━━━━━━━━━━━━━━━━━━━━━━━━\u001b[0m \u001b[32m40.0/40.0 kB\u001b[0m \u001b[31m906.6 kB/s\u001b[0m eta \u001b[36m0:00:00\u001b[0m\n",
            "\u001b[?25hRequirement already satisfied: sympy>=1.1.0 in /usr/local/lib/python3.10/dist-packages (from nacal) (1.12.1)\n",
            "Requirement already satisfied: mpmath<1.4.0,>=1.1.0 in /usr/local/lib/python3.10/dist-packages (from sympy>=1.1.0->nacal) (1.3.0)\n",
            "Installing collected packages: nacal\n",
            "Successfully installed nacal-0.2.1\n"
          ]
        }
      ],
      "source": [
        "!pip install --target=$nb_path nacal\n",
        "from nacal import *"
      ]
    },
    {
      "cell_type": "markdown",
      "source": [
        "**Propiedades de linealidad en el vector. A(b+c)=Ab+Ac**\n"
      ],
      "metadata": {
        "id": "x0lQ4Mffh67Z"
      }
    },
    {
      "cell_type": "markdown",
      "source": [
        "Primero definimos las matrices y los vectores:"
      ],
      "metadata": {
        "id": "mtVTQvM3h8Om"
      }
    },
    {
      "cell_type": "code",
      "source": [
        "#Matrices\n",
        "f = Vector([1,2,3])\n",
        "d = Vector([8,3,6])\n",
        "p = Vector([4,5,1])\n",
        "A = Matrix([f,d,p])\n",
        "print(A)\n",
        "A\n",
        "i = Vector([6,1,0])\n",
        "g = Vector([0,4,8])\n",
        "o = Vector([8,15,13])\n",
        "B = Matrix([i,g,o])\n",
        "print(B)\n",
        "B\n",
        "#Vectores\n",
        "b = Vector([9,6,2])\n",
        "c = Vector([12,6,5])\n",
        "c"
      ],
      "metadata": {
        "colab": {
          "base_uri": "https://localhost:8080/",
          "height": 151
        },
        "id": "Mv5m5FhYojY8",
        "outputId": "46632aec-3a04-4b07-de34-fc70c1008275"
      },
      "execution_count": 5,
      "outputs": [
        {
          "output_type": "stream",
          "name": "stdout",
          "text": [
            "|1 8 4|\n",
            "|2 3 5|\n",
            "|3 6 1|\n",
            "| 6  0  8|\n",
            "| 1  4 15|\n",
            "| 0  8 13|\n"
          ]
        },
        {
          "output_type": "execute_result",
          "data": {
            "text/plain": [
              "Vector([12, 6, 5])"
            ],
            "text/html": [
              "<p style=\"text-align:center;\">$\\begin{pmatrix}12\\\\ 6\\\\ 5\\end{pmatrix}$</p>"
            ],
            "image/png": "$\\begin{pmatrix}12\\\\ 6\\\\ 5\\end{pmatrix}$",
            "text/latex": "$\\begin{pmatrix}12\\\\ 6\\\\ 5\\end{pmatrix}$"
          },
          "metadata": {},
          "execution_count": 5
        }
      ]
    },
    {
      "cell_type": "markdown",
      "source": [
        "Creamos las propiedades:"
      ],
      "metadata": {
        "id": "Ylj9iwzqo1ft"
      }
    },
    {
      "cell_type": "code",
      "source": [
        "op1 = (b+c)\n",
        "op2 = A*op1\n",
        "print(op2)\n",
        "\n",
        "op3 = A*b+A*c\n",
        "print(op3)\n",
        "op2"
      ],
      "metadata": {
        "colab": {
          "base_uri": "https://localhost:8080/",
          "height": 81
        },
        "id": "2HOZRLS0o_xA",
        "outputId": "c511f8f5-f0bd-4943-fc14-610cc888b0ea"
      },
      "execution_count": 6,
      "outputs": [
        {
          "output_type": "stream",
          "name": "stdout",
          "text": [
            "(145, 113, 142,)\n",
            "(145, 113, 142,)\n"
          ]
        },
        {
          "output_type": "execute_result",
          "data": {
            "text/plain": [
              "Vector([145, 113, 142])"
            ],
            "text/html": [
              "<p style=\"text-align:center;\">$\\begin{pmatrix}145\\\\ 113\\\\ 142\\end{pmatrix}$</p>"
            ],
            "image/png": "$\\begin{pmatrix}145\\\\ 113\\\\ 142\\end{pmatrix}$",
            "text/latex": "$\\begin{pmatrix}145\\\\ 113\\\\ 142\\end{pmatrix}$"
          },
          "metadata": {},
          "execution_count": 6
        }
      ]
    },
    {
      "cell_type": "markdown",
      "source": [
        "$\\begin{pmatrix}145\\\\ 113\\\\ 142\\end{pmatrix}$"
      ],
      "metadata": {
        "id": "jU3E8NhT48XQ"
      }
    },
    {
      "cell_type": "markdown",
      "source": [
        "**A(b+c)=Ab+Ac**\n"
      ],
      "metadata": {
        "id": "mD8oUkP_qMMa"
      }
    },
    {
      "cell_type": "code",
      "source": [
        "opx = (b+c)*A\n",
        "print(opx)\n",
        "opx2 = b*A+c*A\n",
        "print(opx2)\n",
        "opx2"
      ],
      "metadata": {
        "colab": {
          "base_uri": "https://localhost:8080/",
          "height": 81
        },
        "id": "WcwQJKSnqR_q",
        "outputId": "ebdd8d5e-3561-40f6-cf53-864448029367"
      },
      "execution_count": 7,
      "outputs": [
        {
          "output_type": "stream",
          "name": "stdout",
          "text": [
            "(66, 246, 151,)\n",
            "(66, 246, 151,)\n"
          ]
        },
        {
          "output_type": "execute_result",
          "data": {
            "text/plain": [
              "Vector([66, 246, 151])"
            ],
            "text/html": [
              "<p style=\"text-align:center;\">$\\begin{pmatrix}66,& 246,& 151,\\end{pmatrix}$</p>"
            ],
            "image/png": "$\\begin{pmatrix}66,& 246,& 151,\\end{pmatrix}$",
            "text/latex": "$\\begin{pmatrix}66,& 246,& 151,\\end{pmatrix}$"
          },
          "metadata": {},
          "execution_count": 7
        }
      ]
    },
    {
      "cell_type": "markdown",
      "source": [
        "$\\begin{pmatrix}195\\\\ 138\\\\ 195\\end{pmatrix}$"
      ],
      "metadata": {
        "id": "55Mjra4j61RP"
      }
    },
    {
      "cell_type": "markdown",
      "source": [
        "**(λb)A = λ(bA)**"
      ],
      "metadata": {
        "id": "q3xw4ftzqk_S"
      }
    },
    {
      "cell_type": "code",
      "source": [
        "op6 = (2*b)*A\n",
        "print(op6)\n",
        "op7 = 2*(b*A)\n",
        "print(op7)"
      ],
      "metadata": {
        "colab": {
          "base_uri": "https://localhost:8080/"
        },
        "id": "r29Hzhp6qsX1",
        "outputId": "f281e3e3-2078-4607-c148-34e071938005"
      },
      "execution_count": 8,
      "outputs": [
        {
          "output_type": "stream",
          "name": "stdout",
          "text": [
            "(54, 204, 136,)\n",
            "(54, 204, 136,)\n"
          ]
        }
      ]
    },
    {
      "cell_type": "markdown",
      "source": [
        "Otras propiedades:"
      ],
      "metadata": {
        "id": "eJoxoO0trEsC"
      }
    },
    {
      "cell_type": "markdown",
      "source": [
        "**A(Bc)=[A(B|1); ... A(B|n);]c**"
      ],
      "metadata": {
        "id": "ZXXrX1tOrMfX"
      }
    },
    {
      "cell_type": "code",
      "source": [
        "op8 = (B|1)*A\n",
        "print(op8)\n",
        "op9 = (B|2)*A\n",
        "print(op9)\n",
        "op10 = (B|3)*A\n",
        "print(op10)\n",
        "op11 = op8*c\n",
        "print(op11)"
      ],
      "metadata": {
        "colab": {
          "base_uri": "https://localhost:8080/"
        },
        "id": "7pjf6N3XrNZ7",
        "outputId": "b4aec766-d81e-41d7-da04-993bd3d8fa4e"
      },
      "execution_count": 9,
      "outputs": [
        {
          "output_type": "stream",
          "name": "stdout",
          "text": [
            "(8, 51, 29,)\n",
            "(32, 60, 28,)\n",
            "(77, 187, 120,)\n",
            "547\n"
          ]
        }
      ]
    },
    {
      "cell_type": "markdown",
      "source": [
        "**Lineal en la matriz: (A + B)c = Ac + Bc**"
      ],
      "metadata": {
        "id": "K5O4KdljrUgd"
      }
    },
    {
      "cell_type": "code",
      "source": [
        "op15 = (A+B)*c\n",
        "print(op15)\n",
        "\n",
        "op16 = A*c + B*c\n",
        "print(op16)\n",
        "op16"
      ],
      "metadata": {
        "colab": {
          "base_uri": "https://localhost:8080/",
          "height": 81
        },
        "id": "E12xFm-ErZCt",
        "outputId": "b94a496c-9896-4b99-eda0-e54ae295b9a5"
      },
      "execution_count": 10,
      "outputs": [
        {
          "output_type": "stream",
          "name": "stdout",
          "text": [
            "(192, 178, 190,)\n",
            "(192, 178, 190,)\n"
          ]
        },
        {
          "output_type": "execute_result",
          "data": {
            "text/plain": [
              "Vector([192, 178, 190])"
            ],
            "text/html": [
              "<p style=\"text-align:center;\">$\\begin{pmatrix}192\\\\ 178\\\\ 190\\end{pmatrix}$</p>"
            ],
            "image/png": "$\\begin{pmatrix}192\\\\ 178\\\\ 190\\end{pmatrix}$",
            "text/latex": "$\\begin{pmatrix}192\\\\ 178\\\\ 190\\end{pmatrix}$"
          },
          "metadata": {},
          "execution_count": 10
        }
      ]
    },
    {
      "cell_type": "markdown",
      "source": [
        "$\\begin{pmatrix}192\\\\ 178\\\\ 190\\end{pmatrix}$"
      ],
      "metadata": {
        "id": "S2_6coL1rgIi"
      }
    },
    {
      "cell_type": "markdown",
      "source": [
        "**(λA)b = λ(Ab)**"
      ],
      "metadata": {
        "id": "UxciXQPTrmOj"
      }
    },
    {
      "cell_type": "code",
      "source": [
        "op17 = (3*A)*b\n",
        "print(op17)\n",
        "\n",
        "op18 = 3*(A*b)\n",
        "print(op18)\n",
        "op18"
      ],
      "metadata": {
        "colab": {
          "base_uri": "https://localhost:8080/",
          "height": 81
        },
        "id": "9RQNRzpmrnSF",
        "outputId": "260936d4-e272-4e0b-f49c-f0a7397bbe08"
      },
      "execution_count": 11,
      "outputs": [
        {
          "output_type": "stream",
          "name": "stdout",
          "text": [
            "(195, 138, 195,)\n",
            "(195, 138, 195,)\n"
          ]
        },
        {
          "output_type": "execute_result",
          "data": {
            "text/plain": [
              "Vector([195, 138, 195])"
            ],
            "text/html": [
              "<p style=\"text-align:center;\">$\\begin{pmatrix}195\\\\ 138\\\\ 195\\end{pmatrix}$</p>"
            ],
            "image/png": "$\\begin{pmatrix}195\\\\ 138\\\\ 195\\end{pmatrix}$",
            "text/latex": "$\\begin{pmatrix}195\\\\ 138\\\\ 195\\end{pmatrix}$"
          },
          "metadata": {},
          "execution_count": 11
        }
      ]
    },
    {
      "cell_type": "markdown",
      "source": [
        "$\\begin{pmatrix}195\\\\ 138\\\\ 195\\end{pmatrix}$"
      ],
      "metadata": {
        "id": "WpMR14-5rwhO"
      }
    }
  ]
}