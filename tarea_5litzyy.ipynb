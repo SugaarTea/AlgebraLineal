{
  "nbformat": 4,
  "nbformat_minor": 0,
  "metadata": {
    "colab": {
      "provenance": [],
      "include_colab_link": true
    },
    "kernelspec": {
      "name": "python3",
      "display_name": "Python 3"
    },
    "language_info": {
      "name": "python"
    }
  },
  "cells": [
    {
      "cell_type": "markdown",
      "metadata": {
        "id": "view-in-github",
        "colab_type": "text"
      },
      "source": [
        "<a href=\"https://colab.research.google.com/github/SugaarTea/AlgebraLineal/blob/main/tarea_5litzyy.ipynb\" target=\"_parent\"><img src=\"https://colab.research.google.com/assets/colab-badge.svg\" alt=\"Open In Colab\"/></a>"
      ]
    },
    {
      "cell_type": "code",
      "execution_count": 1,
      "metadata": {
        "colab": {
          "base_uri": "https://localhost:8080/"
        },
        "id": "T9mcRMDLVpzh",
        "outputId": "6df5a8e1-706a-4622-ac37-fa3eddde9456"
      },
      "outputs": [
        {
          "output_type": "stream",
          "name": "stdout",
          "text": [
            "Collecting nacal\n",
            "  Downloading nacal-0.2.1-py3-none-any.whl (40 kB)\n",
            "\u001b[2K     \u001b[90m━━━━━━━━━━━━━━━━━━━━━━━━━━━━━━━━━━━━━━━━\u001b[0m \u001b[32m40.0/40.0 kB\u001b[0m \u001b[31m369.9 kB/s\u001b[0m eta \u001b[36m0:00:00\u001b[0m\n",
            "\u001b[?25hRequirement already satisfied: sympy>=1.1.0 in /usr/local/lib/python3.10/dist-packages (from nacal) (1.12.1)\n",
            "Requirement already satisfied: mpmath<1.4.0,>=1.1.0 in /usr/local/lib/python3.10/dist-packages (from sympy>=1.1.0->nacal) (1.3.0)\n",
            "Installing collected packages: nacal\n",
            "Successfully installed nacal-0.2.1\n"
          ]
        }
      ],
      "source": [
        "!pip install --target=$nb_path nacal\n",
        "from nacal import *"
      ]
    },
    {
      "cell_type": "markdown",
      "source": [
        "1. Para la siguiente matriz $$\\left[ \\begin{array}{cccc}3&-2&2&1\\\\1&-1&-1&-3\\\\2&1&2&4\\\\4&-4&1&2\\\\ \\end{array} \\right]$$ lleva a cabo el algoritmo de eliminación paso a paso.\n",
        "\n",
        "Escribe en una celda separada cada operacion elemental."
      ],
      "metadata": {
        "id": "hBXBxw0VcrAh"
      }
    },
    {
      "cell_type": "code",
      "source": [
        "x= Vector((3,1,2,4)); y=Vector((-2,-1,1,-4)); z= Vector((2,-1,2,1)); w=Vector((1,-3,4,2))\n",
        "M= Matrix([x,y,z,w])\n",
        "M"
      ],
      "metadata": {
        "colab": {
          "base_uri": "https://localhost:8080/",
          "height": 46
        },
        "id": "U4H_a9Ab7EeK",
        "outputId": "70e55f7d-f471-4615-c5be-83bd7228dfde"
      },
      "execution_count": 2,
      "outputs": [
        {
          "output_type": "execute_result",
          "data": {
            "text/plain": [
              "Matrix([Vector([3, 1, 2, 4]), Vector([-2, -1, 1, -4]), Vector([2, -1, 2, 1]), Vector([1, -3, 4, 2])])"
            ],
            "text/html": [
              "<p style=\"text-align:center;\">$\\left[ \\begin{array}{cccc}3&-2&2&1\\\\1&-1&-1&-3\\\\2&1&2&4\\\\4&-4&1&2\\\\ \\end{array} \\right]$</p>"
            ],
            "image/png": "$\\left[ \\begin{array}{cccc}3&-2&2&1\\\\1&-1&-1&-3\\\\2&1&2&4\\\\4&-4&1&2\\\\ \\end{array} \\right]$",
            "text/latex": "$\\left[ \\begin{array}{cccc}3&-2&2&1\\\\1&-1&-1&-3\\\\2&1&2&4\\\\4&-4&1&2\\\\ \\end{array} \\right]$"
          },
          "metadata": {},
          "execution_count": 2
        }
      ]
    },
    {
      "cell_type": "markdown",
      "source": [
        "$\\left[ \\begin{array}{cccc}3&-2&2&1\\\\1&-1&-1&-3\\\\2&1&2&4\\\\4&-4&1&2\\\\ \\end{array} \\right]$"
      ],
      "metadata": {
        "id": "Mueh1pQt7UQk"
      }
    },
    {
      "cell_type": "code",
      "source": [
        "R = Elim(M,1)"
      ],
      "metadata": {
        "colab": {
          "base_uri": "https://localhost:8080/",
          "height": 144
        },
        "id": "pRURYDwM7ZtX",
        "outputId": "8ed1d5f0-a793-432e-a22b-cf4593cfeef4"
      },
      "execution_count": 3,
      "outputs": [
        {
          "output_type": "display_data",
          "data": {
            "text/plain": [
              "<IPython.core.display.Math object>"
            ],
            "text/latex": "$\\displaystyle \\left[ \\begin{array}{cccc}3&-2&2&1\\\\1&-1&-1&-3\\\\2&1&2&4\\\\4&-4&1&2\\\\ \\end{array} \\right]\\xrightarrow{\\underset{\\begin{subarray}{c} \\left[\\left(3\\right)\\mathbf{2}\\right]\\\\\\left[\\left(2\\right)\\mathbf{1}+\\mathbf{2} \\right]\\\\\\left[\\left(3\\right)\\mathbf{3}\\right]\\\\\\left[\\left(-2\\right)\\mathbf{1}+\\mathbf{3} \\right]\\\\\\left[\\left(3\\right)\\mathbf{4}\\right]\\\\\\left[\\left(-1\\right)\\mathbf{1}+\\mathbf{4} \\right]\\end{subarray}}{\\pmb{\\tau}}}\\left[ \\begin{array}{cccc}3&0&0&0\\\\1&-1&-5&-10\\\\2&7&2&10\\\\4&-4&-5&2\\\\ \\end{array} \\right]\\xrightarrow{\\underset{\\begin{subarray}{c} \\left[\\left(-5\\right)\\mathbf{2}+\\mathbf{3} \\right]\\\\\\left[\\left(-10\\right)\\mathbf{2}+\\mathbf{4} \\right]\\end{subarray}}{\\pmb{\\tau}}}\\left[ \\begin{array}{cccc}3&0&0&0\\\\1&-1&0&0\\\\2&7&-33&-60\\\\4&-4&15&42\\\\ \\end{array} \\right]\\xrightarrow{\\underset{\\begin{subarray}{c} \\left[\\left(11\\right)\\mathbf{4}\\right]\\\\\\left[\\left(-20\\right)\\mathbf{3}+\\mathbf{4} \\right]\\end{subarray}}{\\pmb{\\tau}}}\\left[ \\begin{array}{cccc}3&0&0&0\\\\1&-1&0&0\\\\2&7&-33&0\\\\4&-4&15&162\\\\ \\end{array} \\right]$"
          },
          "metadata": {}
        }
      ]
    },
    {
      "cell_type": "code",
      "source": [
        "G = ElimG(M, 1)"
      ],
      "metadata": {
        "colab": {
          "base_uri": "https://localhost:8080/",
          "height": 144
        },
        "id": "eaiYMwUd7d3F",
        "outputId": "c6eec0e9-eb49-45f2-914f-d2d32b0ccd07"
      },
      "execution_count": 4,
      "outputs": [
        {
          "output_type": "display_data",
          "data": {
            "text/plain": [
              "<IPython.core.display.Math object>"
            ],
            "text/latex": "$\\displaystyle \\left[ \\begin{array}{cccc}3&-2&2&1\\\\1&-1&-1&-3\\\\2&1&2&4\\\\4&-4&1&2\\\\ \\end{array} \\right]\\xrightarrow{\\underset{\\begin{subarray}{c} \\left[\\left(3\\right)\\mathbf{2}\\right]\\\\\\left[\\left(2\\right)\\mathbf{1}+\\mathbf{2} \\right]\\\\\\left[\\left(3\\right)\\mathbf{3}\\right]\\\\\\left[\\left(-2\\right)\\mathbf{1}+\\mathbf{3} \\right]\\\\\\left[\\left(3\\right)\\mathbf{4}\\right]\\\\\\left[\\left(-1\\right)\\mathbf{1}+\\mathbf{4} \\right]\\end{subarray}}{\\pmb{\\tau}}}\\left[ \\begin{array}{cccc}3&0&0&0\\\\1&-1&-5&-10\\\\2&7&2&10\\\\4&-4&-5&2\\\\ \\end{array} \\right]\\xrightarrow{\\underset{\\begin{subarray}{c} \\left[\\left(-5\\right)\\mathbf{2}+\\mathbf{3} \\right]\\\\\\left[\\left(-10\\right)\\mathbf{2}+\\mathbf{4} \\right]\\end{subarray}}{\\pmb{\\tau}}}\\left[ \\begin{array}{cccc}3&0&0&0\\\\1&-1&0&0\\\\2&7&-33&-60\\\\4&-4&15&42\\\\ \\end{array} \\right]\\xrightarrow{\\underset{\\begin{subarray}{c} \\left[\\left(11\\right)\\mathbf{4}\\right]\\\\\\left[\\left(-20\\right)\\mathbf{3}+\\mathbf{4} \\right]\\end{subarray}}{\\pmb{\\tau}}}\\left[ \\begin{array}{cccc}3&0&0&0\\\\1&-1&0&0\\\\2&7&-33&0\\\\4&-4&15&162\\\\ \\end{array} \\right]$"
          },
          "metadata": {}
        }
      ]
    },
    {
      "cell_type": "code",
      "source": [
        "GJ = ElimGJ(M, 1)"
      ],
      "metadata": {
        "colab": {
          "base_uri": "https://localhost:8080/",
          "height": 271
        },
        "id": "dti587B07idI",
        "outputId": "c61bc101-a117-4a91-f282-c64ac9539d0b"
      },
      "execution_count": 5,
      "outputs": [
        {
          "output_type": "display_data",
          "data": {
            "text/plain": [
              "<IPython.core.display.Math object>"
            ],
            "text/latex": "$\\displaystyle \\left[ \\begin{array}{cccc}3&-2&2&1\\\\1&-1&-1&-3\\\\2&1&2&4\\\\4&-4&1&2\\\\ \\end{array} \\right]\\xrightarrow{\\underset{\\begin{subarray}{c} \\left[\\left(3\\right)\\mathbf{2}\\right]\\\\\\left[\\left(2\\right)\\mathbf{1}+\\mathbf{2} \\right]\\\\\\left[\\left(3\\right)\\mathbf{3}\\right]\\\\\\left[\\left(-2\\right)\\mathbf{1}+\\mathbf{3} \\right]\\\\\\left[\\left(3\\right)\\mathbf{4}\\right]\\\\\\left[\\left(-1\\right)\\mathbf{1}+\\mathbf{4} \\right]\\end{subarray}}{\\pmb{\\tau}}}\\left[ \\begin{array}{cccc}3&0&0&0\\\\1&-1&-5&-10\\\\2&7&2&10\\\\4&-4&-5&2\\\\ \\end{array} \\right]\\xrightarrow{\\underset{\\begin{subarray}{c} \\left[\\left(1\\right)\\mathbf{2}+\\mathbf{1} \\right]\\\\\\left[\\left(-5\\right)\\mathbf{2}+\\mathbf{3} \\right]\\\\\\left[\\left(-10\\right)\\mathbf{2}+\\mathbf{4} \\right]\\end{subarray}}{\\pmb{\\tau}}}\\left[ \\begin{array}{cccc}3&0&0&0\\\\0&-1&0&0\\\\9&7&-33&-60\\\\0&-4&15&42\\\\ \\end{array} \\right]\\xrightarrow{\\underset{\\begin{subarray}{c} \\left[\\left(11\\right)\\mathbf{1}\\right]\\\\\\left[\\left(3\\right)\\mathbf{3}+\\mathbf{1} \\right]\\\\\\left[\\left(33\\right)\\mathbf{2}\\right]\\\\\\left[\\left(7\\right)\\mathbf{3}+\\mathbf{2} \\right]\\\\\\left[\\left(11\\right)\\mathbf{4}\\right]\\\\\\left[\\left(-20\\right)\\mathbf{3}+\\mathbf{4} \\right]\\end{subarray}}{\\pmb{\\tau}}}\\left[ \\begin{array}{cccc}33&0&0&0\\\\0&-33&0&0\\\\0&0&-33&0\\\\45&-27&15&162\\\\ \\end{array} \\right]\\xrightarrow{\\underset{\\begin{subarray}{c} \\left[\\left(18\\right)\\mathbf{1}\\right]\\\\\\left[\\left(-5\\right)\\mathbf{4}+\\mathbf{1} \\right]\\\\\\left[\\left(6\\right)\\mathbf{2}\\right]\\\\\\left[\\left(1\\right)\\mathbf{4}+\\mathbf{2} \\right]\\\\\\left[\\left(54\\right)\\mathbf{3}\\right]\\\\\\left[\\left(-5\\right)\\mathbf{4}+\\mathbf{3} \\right]\\end{subarray}}{\\pmb{\\tau}}}\\left[ \\begin{array}{cccc}594&0&0&0\\\\0&-198&0&0\\\\0&0&-1782&0\\\\0&0&0&162\\\\ \\end{array} \\right]\\xrightarrow{\\underset{\\begin{subarray}{c} \\left[\\left(\\frac{1}{594}\\right)\\mathbf{1}\\right]\\\\\\left[\\left(- \\frac{1}{198}\\right)\\mathbf{2}\\right]\\\\\\left[\\left(- \\frac{1}{1782}\\right)\\mathbf{3}\\right]\\\\\\left[\\left(\\frac{1}{162}\\right)\\mathbf{4}\\right]\\end{subarray}}{\\pmb{\\tau}}}\\left[ \\begin{array}{cccc}1&0&0&0\\\\0&1&0&0\\\\0&0&1&0\\\\0&0&0&1\\\\ \\end{array} \\right]$"
          },
          "metadata": {}
        }
      ]
    },
    {
      "cell_type": "markdown",
      "source": [
        "2. Escriba las siguientes matrices elementales de orden 4.\n",
        "\n",
        "\n",
        "(a) I τ\n",
        "[(−7)1+3]\n",
        "\n",
        "(b) I τ\n",
        "[(1)1+4]\n",
        "\n",
        "(c) I τ\n",
        "[(3)2+1]\n",
        "\n",
        "(d) I τ\n",
        "[(−10)3]"
      ],
      "metadata": {
        "id": "2wXEkEH9hXGe"
      }
    },
    {
      "cell_type": "code",
      "source": [
        "# b\n",
        "M&T(((1),1+4))"
      ],
      "metadata": {
        "colab": {
          "base_uri": "https://localhost:8080/",
          "height": 46
        },
        "id": "iENkwPi17uzL",
        "outputId": "5062a553-2bf7-4048-e2d3-55d5bf083351"
      },
      "execution_count": 6,
      "outputs": [
        {
          "output_type": "execute_result",
          "data": {
            "text/plain": [
              "Matrix([Vector([3, 1, 2, 4]), Vector([-2, -1, 1, -4]), Vector([2, -1, 2, 1]), Vector([1, -3, 4, 2])])"
            ],
            "text/html": [
              "<p style=\"text-align:center;\">$\\left[ \\begin{array}{cccc}3&-2&2&1\\\\1&-1&-1&-3\\\\2&1&2&4\\\\4&-4&1&2\\\\ \\end{array} \\right]$</p>"
            ],
            "image/png": "$\\left[ \\begin{array}{cccc}3&-2&2&1\\\\1&-1&-1&-3\\\\2&1&2&4\\\\4&-4&1&2\\\\ \\end{array} \\right]$",
            "text/latex": "$\\left[ \\begin{array}{cccc}3&-2&2&1\\\\1&-1&-1&-3\\\\2&1&2&4\\\\4&-4&1&2\\\\ \\end{array} \\right]$"
          },
          "metadata": {},
          "execution_count": 6
        }
      ]
    },
    {
      "cell_type": "markdown",
      "source": [
        "$\\left[ \\begin{array}{cccc}3&-2&2&1\\\\1&-1&-1&-3\\\\2&1&2&4\\\\4&-4&1&2\\\\ \\end{array} \\right]$"
      ],
      "metadata": {
        "id": "ythPwVZ974gm"
      }
    },
    {
      "cell_type": "code",
      "source": [
        "# c\n",
        "M&T(((3),2+1))"
      ],
      "metadata": {
        "colab": {
          "base_uri": "https://localhost:8080/",
          "height": 46
        },
        "id": "8sjitNxQ7-RE",
        "outputId": "30834063-3d34-4f9d-aa8b-3151b071283e"
      },
      "execution_count": 7,
      "outputs": [
        {
          "output_type": "execute_result",
          "data": {
            "text/plain": [
              "Matrix([Vector([3, 1, 2, 4]), Vector([-2, -1, 1, -4]), Vector([6, -3, 6, 3]), Vector([1, -3, 4, 2])])"
            ],
            "text/html": [
              "<p style=\"text-align:center;\">$\\left[ \\begin{array}{cccc}3&-2&6&1\\\\1&-1&-3&-3\\\\2&1&6&4\\\\4&-4&3&2\\\\ \\end{array} \\right]$</p>"
            ],
            "image/png": "$\\left[ \\begin{array}{cccc}3&-2&6&1\\\\1&-1&-3&-3\\\\2&1&6&4\\\\4&-4&3&2\\\\ \\end{array} \\right]$",
            "text/latex": "$\\left[ \\begin{array}{cccc}3&-2&6&1\\\\1&-1&-3&-3\\\\2&1&6&4\\\\4&-4&3&2\\\\ \\end{array} \\right]$"
          },
          "metadata": {},
          "execution_count": 7
        }
      ]
    },
    {
      "cell_type": "markdown",
      "source": [
        "$\\left[ \\begin{array}{cccc}3&-2&6&1\\\\1&-1&-3&-3\\\\2&1&6&4\\\\4&-4&3&2\\\\ \\end{array} \\right]$"
      ],
      "metadata": {
        "id": "tlvARTda8QjX"
      }
    },
    {
      "cell_type": "code",
      "source": [
        "# d\n",
        "M&T(((-10),3))"
      ],
      "metadata": {
        "colab": {
          "base_uri": "https://localhost:8080/",
          "height": 46
        },
        "id": "EItdtPzV8b7c",
        "outputId": "d19a1b63-4d31-4a8d-dff5-cb83653dbdc2"
      },
      "execution_count": 8,
      "outputs": [
        {
          "output_type": "execute_result",
          "data": {
            "text/plain": [
              "Matrix([Vector([3, 1, 2, 4]), Vector([-2, -1, 1, -4]), Vector([-60, 30, -60, -30]), Vector([1, -3, 4, 2])])"
            ],
            "text/html": [
              "<p style=\"text-align:center;\">$\\left[ \\begin{array}{cccc}3&-2&-60&1\\\\1&-1&30&-3\\\\2&1&-60&4\\\\4&-4&-30&2\\\\ \\end{array} \\right]$</p>"
            ],
            "image/png": "$\\left[ \\begin{array}{cccc}3&-2&-60&1\\\\1&-1&30&-3\\\\2&1&-60&4\\\\4&-4&-30&2\\\\ \\end{array} \\right]$",
            "text/latex": "$\\left[ \\begin{array}{cccc}3&-2&-60&1\\\\1&-1&30&-3\\\\2&1&-60&4\\\\4&-4&-30&2\\\\ \\end{array} \\right]$"
          },
          "metadata": {},
          "execution_count": 8
        }
      ]
    },
    {
      "cell_type": "markdown",
      "source": [
        "$\\left[ \\begin{array}{cccc}3&-2&-60&1\\\\1&-1&30&-3\\\\2&1&-60&4\\\\4&-4&-30&2\\\\ \\end{array} \\right]$"
      ],
      "metadata": {
        "id": "Zs6eZ0w38fKb"
      }
    },
    {
      "cell_type": "markdown",
      "source": [
        "3. Sea la matriz A = $\\left[ \\begin{array}{cccc}1&1&1&1\\\\0&1&1&1\\\\1&2&3&4\\\\4&-4&1&2\\\\ \\end{array} \\right]$\n",
        ", exprese las siguientes transformaciones elementales de\n",
        "\n",
        "A como productos de A por matrices elementales y escriba el resultado:\n",
        "\n",
        "(a) Multiplicar la primera columna por 3. (b) Restar la primera columna de la segunda."
      ],
      "metadata": {
        "id": "pwJzrogtFnkN"
      }
    },
    {
      "cell_type": "code",
      "source": [
        "v= Vector((1,0,1,4)); b=Vector((1,1,2,-4)); n= Vector((1,1,3,1)); m=Vector((1,1,4,2))\n",
        "A= Matrix ([v,b,n,m])\n",
        "A"
      ],
      "metadata": {
        "colab": {
          "base_uri": "https://localhost:8080/",
          "height": 46
        },
        "id": "E8ycBcPD8wBU",
        "outputId": "310d3cac-3247-4fed-ccdf-759b6dc835a6"
      },
      "execution_count": 9,
      "outputs": [
        {
          "output_type": "execute_result",
          "data": {
            "text/plain": [
              "Matrix([Vector([1, 0, 1, 4]), Vector([1, 1, 2, -4]), Vector([1, 1, 3, 1]), Vector([1, 1, 4, 2])])"
            ],
            "text/html": [
              "<p style=\"text-align:center;\">$\\left[ \\begin{array}{cccc}1&1&1&1\\\\0&1&1&1\\\\1&2&3&4\\\\4&-4&1&2\\\\ \\end{array} \\right]$</p>"
            ],
            "image/png": "$\\left[ \\begin{array}{cccc}1&1&1&1\\\\0&1&1&1\\\\1&2&3&4\\\\4&-4&1&2\\\\ \\end{array} \\right]$",
            "text/latex": "$\\left[ \\begin{array}{cccc}1&1&1&1\\\\0&1&1&1\\\\1&2&3&4\\\\4&-4&1&2\\\\ \\end{array} \\right]$"
          },
          "metadata": {},
          "execution_count": 9
        }
      ]
    },
    {
      "cell_type": "markdown",
      "source": [
        "$\\left[ \\begin{array}{cccc}1&1&1&1\\\\0&1&1&1\\\\1&2&3&4\\\\4&-4&1&2\\\\ \\end{array} \\right]$"
      ],
      "metadata": {
        "id": "G09Oy8N680tE"
      }
    },
    {
      "cell_type": "code",
      "source": [
        "Q = Matrix ([v])\n",
        "print(Q)\n",
        "Q"
      ],
      "metadata": {
        "colab": {
          "base_uri": "https://localhost:8080/",
          "height": 116
        },
        "id": "36ko-Jl685Nq",
        "outputId": "63f83b5f-d17f-4de7-f592-53e518cf8972"
      },
      "execution_count": 10,
      "outputs": [
        {
          "output_type": "stream",
          "name": "stdout",
          "text": [
            "|1|\n",
            "|0|\n",
            "|1|\n",
            "|4|\n"
          ]
        },
        {
          "output_type": "execute_result",
          "data": {
            "text/plain": [
              "Matrix([Vector([1, 0, 1, 4])])"
            ],
            "text/html": [
              "<p style=\"text-align:center;\">$\\left[ \\begin{array}{c}1\\\\0\\\\1\\\\4\\\\ \\end{array} \\right]$</p>"
            ],
            "image/png": "$\\left[ \\begin{array}{c}1\\\\0\\\\1\\\\4\\\\ \\end{array} \\right]$",
            "text/latex": "$\\left[ \\begin{array}{c}1\\\\0\\\\1\\\\4\\\\ \\end{array} \\right]$"
          },
          "metadata": {},
          "execution_count": 10
        }
      ]
    },
    {
      "cell_type": "markdown",
      "source": [
        "$\\left[ \\begin{array}{c}1\\\\0\\\\1\\\\4\\\\ \\end{array} \\right]$"
      ],
      "metadata": {
        "id": "_cXeWRsV9B34"
      }
    },
    {
      "cell_type": "code",
      "source": [
        "Ñ = Matrix ([b])\n",
        "print(Ñ)\n",
        "Ñ"
      ],
      "metadata": {
        "colab": {
          "base_uri": "https://localhost:8080/",
          "height": 116
        },
        "id": "O7fN8w5b9DUZ",
        "outputId": "ff961190-9223-48d4-974f-f7f4c3e60266"
      },
      "execution_count": 11,
      "outputs": [
        {
          "output_type": "stream",
          "name": "stdout",
          "text": [
            "| 1|\n",
            "| 1|\n",
            "| 2|\n",
            "|-4|\n"
          ]
        },
        {
          "output_type": "execute_result",
          "data": {
            "text/plain": [
              "Matrix([Vector([1, 1, 2, -4])])"
            ],
            "text/html": [
              "<p style=\"text-align:center;\">$\\left[ \\begin{array}{c}1\\\\1\\\\2\\\\-4\\\\ \\end{array} \\right]$</p>"
            ],
            "image/png": "$\\left[ \\begin{array}{c}1\\\\1\\\\2\\\\-4\\\\ \\end{array} \\right]$",
            "text/latex": "$\\left[ \\begin{array}{c}1\\\\1\\\\2\\\\-4\\\\ \\end{array} \\right]$"
          },
          "metadata": {},
          "execution_count": 11
        }
      ]
    },
    {
      "cell_type": "markdown",
      "source": [
        "$\\left[ \\begin{array}{c}1\\\\1\\\\2\\\\-4\\\\ \\end{array} \\right]$"
      ],
      "metadata": {
        "id": "GPI3JQ0L9JlF"
      }
    },
    {
      "cell_type": "code",
      "source": [
        "print((Q*3)-Ñ)"
      ],
      "metadata": {
        "colab": {
          "base_uri": "https://localhost:8080/"
        },
        "id": "yXO3lTQX9Lfq",
        "outputId": "e1039adf-edef-464f-aff8-05c02803b0f2"
      },
      "execution_count": 12,
      "outputs": [
        {
          "output_type": "stream",
          "name": "stdout",
          "text": [
            "| 2|\n",
            "|-1|\n",
            "| 1|\n",
            "|16|\n"
          ]
        }
      ]
    },
    {
      "cell_type": "markdown",
      "source": [
        "4. Realiza el algoritmo de eliminación de Gauss-Jordan para la matriz del ejercicio 1, es decir continua las modificaciones de la matriz mediante operaciones elementales.\n",
        "Por cada paso del algoritmo escribe la celda de código correspondiente."
      ],
      "metadata": {
        "id": "NRMqK0VmB6px"
      }
    },
    {
      "cell_type": "code",
      "source": [
        "T((-3,2,1))&A"
      ],
      "metadata": {
        "colab": {
          "base_uri": "https://localhost:8080/",
          "height": 46
        },
        "id": "08WGS2MS9W-D",
        "outputId": "c51f1841-a9ab-4b73-8e2f-31ae32a029e0"
      },
      "execution_count": 13,
      "outputs": [
        {
          "output_type": "execute_result",
          "data": {
            "text/plain": [
              "Matrix([Vector([1, 0, 1, 4]), Vector([-2, 1, 2, -4]), Vector([-2, 1, 3, 1]), Vector([-2, 1, 4, 2])])"
            ],
            "text/html": [
              "<p style=\"text-align:center;\">$\\left[ \\begin{array}{cccc}1&-2&-2&-2\\\\0&1&1&1\\\\1&2&3&4\\\\4&-4&1&2\\\\ \\end{array} \\right]$</p>"
            ],
            "image/png": "$\\left[ \\begin{array}{cccc}1&-2&-2&-2\\\\0&1&1&1\\\\1&2&3&4\\\\4&-4&1&2\\\\ \\end{array} \\right]$",
            "text/latex": "$\\left[ \\begin{array}{cccc}1&-2&-2&-2\\\\0&1&1&1\\\\1&2&3&4\\\\4&-4&1&2\\\\ \\end{array} \\right]$"
          },
          "metadata": {},
          "execution_count": 13
        }
      ]
    },
    {
      "cell_type": "markdown",
      "source": [
        "$\\left[ \\begin{array}{cccc}1&-2&-2&-2\\\\0&1&1&1\\\\1&2&3&4\\\\4&-4&1&2\\\\ \\end{array} \\right]$"
      ],
      "metadata": {
        "id": "VgIybl_l9aLb"
      }
    },
    {
      "cell_type": "code",
      "source": [
        "T((fracc(-7,3),3,1))&A"
      ],
      "metadata": {
        "colab": {
          "base_uri": "https://localhost:8080/",
          "height": 46
        },
        "id": "L1yNa5le9eFz",
        "outputId": "92957dad-0865-48ef-e785-774c4dec19dc"
      },
      "execution_count": 14,
      "outputs": [
        {
          "output_type": "execute_result",
          "data": {
            "text/plain": [
              "Matrix([Vector([-4/3, 0, 1, 4]), Vector([-20/3, 1, 2, -4]), Vector([-9, 1, 3, 1]), Vector([-34/3, 1, 4, 2])])"
            ],
            "text/html": [
              "<p style=\"text-align:center;\">$\\left[ \\begin{array}{cccc}- \\frac{4}{3}&- \\frac{20}{3}&-9&- \\frac{34}{3}\\\\0&1&1&1\\\\1&2&3&4\\\\4&-4&1&2\\\\ \\end{array} \\right]$</p>"
            ],
            "image/png": "$\\left[ \\begin{array}{cccc}- \\frac{4}{3}&- \\frac{20}{3}&-9&- \\frac{34}{3}\\\\0&1&1&1\\\\1&2&3&4\\\\4&-4&1&2\\\\ \\end{array} \\right]$",
            "text/latex": "$\\left[ \\begin{array}{cccc}- \\frac{4}{3}&- \\frac{20}{3}&-9&- \\frac{34}{3}\\\\0&1&1&1\\\\1&2&3&4\\\\4&-4&1&2\\\\ \\end{array} \\right]$"
          },
          "metadata": {},
          "execution_count": 14
        }
      ]
    },
    {
      "cell_type": "markdown",
      "source": [
        "$\\left[ \\begin{array}{cccc}- \\frac{4}{3}&- \\frac{20}{3}&-9&- \\frac{34}{3}\\\\0&1&1&1\\\\1&2&3&4\\\\4&-4&1&2\\\\ \\end{array} \\right]$"
      ],
      "metadata": {
        "id": "oXzXrGUQ9g6Y"
      }
    },
    {
      "cell_type": "code",
      "source": [
        "T((fracc(5,6),3,2))&A"
      ],
      "metadata": {
        "colab": {
          "base_uri": "https://localhost:8080/",
          "height": 46
        },
        "id": "nggbfrdZ9lrZ",
        "outputId": "48387add-420d-44ad-b8f5-a5ea1b19d9d7"
      },
      "execution_count": 15,
      "outputs": [
        {
          "output_type": "execute_result",
          "data": {
            "text/plain": [
              "Matrix([Vector([-4/3, 5/6, 1, 4]), Vector([-20/3, 8/3, 2, -4]), Vector([-9, 7/2, 3, 1]), Vector([-34/3, 13/3, 4, 2])])"
            ],
            "text/html": [
              "<p style=\"text-align:center;\">$\\left[ \\begin{array}{cccc}- \\frac{4}{3}&- \\frac{20}{3}&-9&- \\frac{34}{3}\\\\\\frac{5}{6}&\\frac{8}{3}&\\frac{7}{2}&\\frac{13}{3}\\\\1&2&3&4\\\\4&-4&1&2\\\\ \\end{array} \\right]$</p>"
            ],
            "image/png": "$\\left[ \\begin{array}{cccc}- \\frac{4}{3}&- \\frac{20}{3}&-9&- \\frac{34}{3}\\\\\\frac{5}{6}&\\frac{8}{3}&\\frac{7}{2}&\\frac{13}{3}\\\\1&2&3&4\\\\4&-4&1&2\\\\ \\end{array} \\right]$",
            "text/latex": "$\\left[ \\begin{array}{cccc}- \\frac{4}{3}&- \\frac{20}{3}&-9&- \\frac{34}{3}\\\\\\frac{5}{6}&\\frac{8}{3}&\\frac{7}{2}&\\frac{13}{3}\\\\1&2&3&4\\\\4&-4&1&2\\\\ \\end{array} \\right]$"
          },
          "metadata": {},
          "execution_count": 15
        }
      ]
    },
    {
      "cell_type": "markdown",
      "source": [
        "$\\left[ \\begin{array}{cccc}- \\frac{4}{3}&- \\frac{20}{3}&-9&- \\frac{34}{3}\\\\\\frac{5}{6}&\\frac{8}{3}&\\frac{7}{2}&\\frac{13}{3}\\\\1&2&3&4\\\\4&-4&1&2\\\\ \\end{array} \\right]$"
      ],
      "metadata": {
        "id": "53an-pVY9sMM"
      }
    },
    {
      "cell_type": "markdown",
      "source": [
        "7. Encuentra la inversa de la matriz del ejercicio 1."
      ],
      "metadata": {
        "id": "2F3XtwbpIhOO"
      }
    },
    {
      "cell_type": "code",
      "source": [
        "a= Vector((3,1,2,4,1,0,0,0)); b=Vector((-2,-1,1,-4,0,1,0,0)); c= Vector((2,-1,2,1,0,0,1,0)); d=Vector((1,-3,4,2,0,0,0,1))\n",
        "Z= Matrix([a,b,c,d])\n",
        "Z"
      ],
      "metadata": {
        "colab": {
          "base_uri": "https://localhost:8080/",
          "height": 46
        },
        "id": "jrKkMaIa-MD2",
        "outputId": "27f28532-cee4-464a-dd3f-ab7da9d3f1e4"
      },
      "execution_count": 16,
      "outputs": [
        {
          "output_type": "execute_result",
          "data": {
            "text/plain": [
              "Matrix([Vector([3, 1, 2, 4, 1, 0, 0, 0]), Vector([-2, -1, 1, -4, 0, 1, 0, 0]), Vector([2, -1, 2, 1, 0, 0, 1, 0]), Vector([1, -3, 4, 2, 0, 0, 0, 1])])"
            ],
            "text/html": [
              "<p style=\"text-align:center;\">$\\left[ \\begin{array}{cccc}3&-2&2&1\\\\1&-1&-1&-3\\\\2&1&2&4\\\\4&-4&1&2\\\\1&0&0&0\\\\0&1&0&0\\\\0&0&1&0\\\\0&0&0&1\\\\ \\end{array} \\right]$</p>"
            ],
            "image/png": "$\\left[ \\begin{array}{cccc}3&-2&2&1\\\\1&-1&-1&-3\\\\2&1&2&4\\\\4&-4&1&2\\\\1&0&0&0\\\\0&1&0&0\\\\0&0&1&0\\\\0&0&0&1\\\\ \\end{array} \\right]$",
            "text/latex": "$\\left[ \\begin{array}{cccc}3&-2&2&1\\\\1&-1&-1&-3\\\\2&1&2&4\\\\4&-4&1&2\\\\1&0&0&0\\\\0&1&0&0\\\\0&0&1&0\\\\0&0&0&1\\\\ \\end{array} \\right]$"
          },
          "metadata": {},
          "execution_count": 16
        }
      ]
    },
    {
      "cell_type": "markdown",
      "source": [
        "$\\left[ \\begin{array}{cccc}3&-2&2&1\\\\1&-1&-1&-3\\\\2&1&2&4\\\\4&-4&1&2\\\\1&0&0&0\\\\0&1&0&0\\\\0&0&1&0\\\\0&0&0&1\\\\ \\end{array} \\right]$"
      ],
      "metadata": {
        "id": "tABDdGgf-Sh_"
      }
    },
    {
      "cell_type": "code",
      "source": [
        "Z&T((2,4,2))"
      ],
      "metadata": {
        "colab": {
          "base_uri": "https://localhost:8080/",
          "height": 46
        },
        "id": "Tm7brg21-mKZ",
        "outputId": "a32fcd88-ad2d-4e33-d860-b9447a140abe"
      },
      "execution_count": 17,
      "outputs": [
        {
          "output_type": "execute_result",
          "data": {
            "text/plain": [
              "Matrix([Vector([3, 1, 2, 4, 1, 0, 0, 0]), Vector([0, -7, 9, 0, 0, 1, 0, 2]), Vector([2, -1, 2, 1, 0, 0, 1, 0]), Vector([1, -3, 4, 2, 0, 0, 0, 1])])"
            ],
            "text/html": [
              "<p style=\"text-align:center;\">$\\left[ \\begin{array}{cccc}3&0&2&1\\\\1&-7&-1&-3\\\\2&9&2&4\\\\4&0&1&2\\\\1&0&0&0\\\\0&1&0&0\\\\0&0&1&0\\\\0&2&0&1\\\\ \\end{array} \\right]$</p>"
            ],
            "image/png": "$\\left[ \\begin{array}{cccc}3&0&2&1\\\\1&-7&-1&-3\\\\2&9&2&4\\\\4&0&1&2\\\\1&0&0&0\\\\0&1&0&0\\\\0&0&1&0\\\\0&2&0&1\\\\ \\end{array} \\right]$",
            "text/latex": "$\\left[ \\begin{array}{cccc}3&0&2&1\\\\1&-7&-1&-3\\\\2&9&2&4\\\\4&0&1&2\\\\1&0&0&0\\\\0&1&0&0\\\\0&0&1&0\\\\0&2&0&1\\\\ \\end{array} \\right]$"
          },
          "metadata": {},
          "execution_count": 17
        }
      ]
    },
    {
      "cell_type": "markdown",
      "source": [
        "$\\left[ \\begin{array}{cccc}3&0&2&1\\\\1&-7&-1&-3\\\\2&9&2&4\\\\4&0&1&2\\\\1&0&0&0\\\\0&1&0&0\\\\0&0&1&0\\\\0&2&0&1\\\\ \\end{array} \\right]$"
      ],
      "metadata": {
        "id": "LfN5xE6o-q_Y"
      }
    },
    {
      "cell_type": "code",
      "source": [
        "Z&T((-2,4,3))"
      ],
      "metadata": {
        "colab": {
          "base_uri": "https://localhost:8080/",
          "height": 46
        },
        "id": "6Vjga2tM-smG",
        "outputId": "6e2dd0a1-ff6c-44aa-bc27-7ebe5cfaa3b4"
      },
      "execution_count": 18,
      "outputs": [
        {
          "output_type": "execute_result",
          "data": {
            "text/plain": [
              "Matrix([Vector([3, 1, 2, 4, 1, 0, 0, 0]), Vector([0, -7, 9, 0, 0, 1, 0, 2]), Vector([0, 5, -6, -3, 0, 0, 1, -2]), Vector([1, -3, 4, 2, 0, 0, 0, 1])])"
            ],
            "text/html": [
              "<p style=\"text-align:center;\">$\\left[ \\begin{array}{cccc}3&0&0&1\\\\1&-7&5&-3\\\\2&9&-6&4\\\\4&0&-3&2\\\\1&0&0&0\\\\0&1&0&0\\\\0&0&1&0\\\\0&2&-2&1\\\\ \\end{array} \\right]$</p>"
            ],
            "image/png": "$\\left[ \\begin{array}{cccc}3&0&0&1\\\\1&-7&5&-3\\\\2&9&-6&4\\\\4&0&-3&2\\\\1&0&0&0\\\\0&1&0&0\\\\0&0&1&0\\\\0&2&-2&1\\\\ \\end{array} \\right]$",
            "text/latex": "$\\left[ \\begin{array}{cccc}3&0&0&1\\\\1&-7&5&-3\\\\2&9&-6&4\\\\4&0&-3&2\\\\1&0&0&0\\\\0&1&0&0\\\\0&0&1&0\\\\0&2&-2&1\\\\ \\end{array} \\right]$"
          },
          "metadata": {},
          "execution_count": 18
        }
      ]
    },
    {
      "cell_type": "markdown",
      "source": [
        "$\\left[ \\begin{array}{cccc}3&0&0&1\\\\1&-7&5&-3\\\\2&9&-6&4\\\\4&0&-3&2\\\\1&0&0&0\\\\0&1&0&0\\\\0&0&1&0\\\\0&2&-2&1\\\\ \\end{array} \\right]$"
      ],
      "metadata": {
        "id": "kDD6axlu-x2m"
      }
    },
    {
      "cell_type": "code",
      "source": [
        "Z&T((fracc(1,3),1))"
      ],
      "metadata": {
        "colab": {
          "base_uri": "https://localhost:8080/",
          "height": 46
        },
        "id": "d40l2cN1-0b-",
        "outputId": "61b8552c-a837-4907-de70-d5af91880a29"
      },
      "execution_count": 19,
      "outputs": [
        {
          "output_type": "execute_result",
          "data": {
            "text/plain": [
              "Matrix([Vector([1, 1/3, 2/3, 4/3, 1/3, 0, 0, 0]), Vector([0, -7, 9, 0, 0, 1, 0, 2]), Vector([0, 5, -6, -3, 0, 0, 1, -2]), Vector([1, -3, 4, 2, 0, 0, 0, 1])])"
            ],
            "text/html": [
              "<p style=\"text-align:center;\">$\\left[ \\begin{array}{cccc}1&0&0&1\\\\\\frac{1}{3}&-7&5&-3\\\\\\frac{2}{3}&9&-6&4\\\\\\frac{4}{3}&0&-3&2\\\\\\frac{1}{3}&0&0&0\\\\0&1&0&0\\\\0&0&1&0\\\\0&2&-2&1\\\\ \\end{array} \\right]$</p>"
            ],
            "image/png": "$\\left[ \\begin{array}{cccc}1&0&0&1\\\\\\frac{1}{3}&-7&5&-3\\\\\\frac{2}{3}&9&-6&4\\\\\\frac{4}{3}&0&-3&2\\\\\\frac{1}{3}&0&0&0\\\\0&1&0&0\\\\0&0&1&0\\\\0&2&-2&1\\\\ \\end{array} \\right]$",
            "text/latex": "$\\left[ \\begin{array}{cccc}1&0&0&1\\\\\\frac{1}{3}&-7&5&-3\\\\\\frac{2}{3}&9&-6&4\\\\\\frac{4}{3}&0&-3&2\\\\\\frac{1}{3}&0&0&0\\\\0&1&0&0\\\\0&0&1&0\\\\0&2&-2&1\\\\ \\end{array} \\right]$"
          },
          "metadata": {},
          "execution_count": 19
        }
      ]
    },
    {
      "cell_type": "markdown",
      "source": [
        "$\\left[ \\begin{array}{cccc}1&0&0&1\\\\\\frac{1}{3}&-7&5&-3\\\\\\frac{2}{3}&9&-6&4\\\\\\frac{4}{3}&0&-3&2\\\\\\frac{1}{3}&0&0&0\\\\0&1&0&0\\\\0&0&1&0\\\\0&2&-2&1\\\\ \\end{array} \\right]$"
      ],
      "metadata": {
        "id": "T75yALM3-789"
      }
    },
    {
      "cell_type": "code",
      "source": [
        "Z&T((-1,1,4))"
      ],
      "metadata": {
        "colab": {
          "base_uri": "https://localhost:8080/",
          "height": 64
        },
        "id": "M6xhFk3f--Av",
        "outputId": "610f9acb-885b-41dc-af49-114670e006c3"
      },
      "execution_count": 21,
      "outputs": [
        {
          "output_type": "execute_result",
          "data": {
            "text/plain": [
              "Matrix([Vector([1/3, 1/9, 2/9, 4/9, 1/9, 0, 0, 0]), Vector([0, -7, 9, 0, 0, 1, 0, 2]), Vector([0, 5, -6, -3, 0, 0, 1, -2]), Vector([2/3, -28/9, 34/9, 14/9, -1/9, 0, 0, 1])])"
            ],
            "text/html": [
              "<p style=\"text-align:center;\">$\\left[ \\begin{array}{cccc}\\frac{1}{3}&0&0&\\frac{2}{3}\\\\\\frac{1}{9}&-7&5&- \\frac{28}{9}\\\\\\frac{2}{9}&9&-6&\\frac{34}{9}\\\\\\frac{4}{9}&0&-3&\\frac{14}{9}\\\\\\frac{1}{9}&0&0&- \\frac{1}{9}\\\\0&1&0&0\\\\0&0&1&0\\\\0&2&-2&1\\\\ \\end{array} \\right]$</p>"
            ],
            "image/png": "$\\left[ \\begin{array}{cccc}\\frac{1}{3}&0&0&\\frac{2}{3}\\\\\\frac{1}{9}&-7&5&- \\frac{28}{9}\\\\\\frac{2}{9}&9&-6&\\frac{34}{9}\\\\\\frac{4}{9}&0&-3&\\frac{14}{9}\\\\\\frac{1}{9}&0&0&- \\frac{1}{9}\\\\0&1&0&0\\\\0&0&1&0\\\\0&2&-2&1\\\\ \\end{array} \\right]$",
            "text/latex": "$\\left[ \\begin{array}{cccc}\\frac{1}{3}&0&0&\\frac{2}{3}\\\\\\frac{1}{9}&-7&5&- \\frac{28}{9}\\\\\\frac{2}{9}&9&-6&\\frac{34}{9}\\\\\\frac{4}{9}&0&-3&\\frac{14}{9}\\\\\\frac{1}{9}&0&0&- \\frac{1}{9}\\\\0&1&0&0\\\\0&0&1&0\\\\0&2&-2&1\\\\ \\end{array} \\right]$"
          },
          "metadata": {},
          "execution_count": 21
        }
      ]
    },
    {
      "cell_type": "markdown",
      "source": [
        "$\\left[ \\begin{array}{cccc}\\frac{1}{3}&0&0&\\frac{2}{3}\\\\\\frac{1}{9}&-7&5&- \\frac{28}{9}\\\\\\frac{2}{9}&9&-6&\\frac{34}{9}\\\\\\frac{4}{9}&0&-3&\\frac{14}{9}\\\\\\frac{1}{9}&0&0&- \\frac{1}{9}\\\\0&1&0&0\\\\0&0&1&0\\\\0&2&-2&1\\\\ \\end{array} \\right]$"
      ],
      "metadata": {
        "id": "NLxVVIc1_iaK"
      }
    },
    {
      "cell_type": "code",
      "source": [
        "Z&T((fracc(-3,10),4))"
      ],
      "metadata": {
        "colab": {
          "base_uri": "https://localhost:8080/",
          "height": 64
        },
        "id": "1wOKBiET_pJo",
        "outputId": "1f44661b-ca89-4859-da4f-7410e017d424"
      },
      "execution_count": 22,
      "outputs": [
        {
          "output_type": "execute_result",
          "data": {
            "text/plain": [
              "Matrix([Vector([1/3, 1/9, 2/9, 4/9, 1/9, 0, 0, 0]), Vector([0, -7, 9, 0, 0, 1, 0, 2]), Vector([0, 5, -6, -3, 0, 0, 1, -2]), Vector([-1/5, 14/15, -17/15, -7/15, 1/30, 0, 0, -3/10])])"
            ],
            "text/html": [
              "<p style=\"text-align:center;\">$\\left[ \\begin{array}{cccc}\\frac{1}{3}&0&0&- \\frac{1}{5}\\\\\\frac{1}{9}&-7&5&\\frac{14}{15}\\\\\\frac{2}{9}&9&-6&- \\frac{17}{15}\\\\\\frac{4}{9}&0&-3&- \\frac{7}{15}\\\\\\frac{1}{9}&0&0&\\frac{1}{30}\\\\0&1&0&0\\\\0&0&1&0\\\\0&2&-2&- \\frac{3}{10}\\\\ \\end{array} \\right]$</p>"
            ],
            "image/png": "$\\left[ \\begin{array}{cccc}\\frac{1}{3}&0&0&- \\frac{1}{5}\\\\\\frac{1}{9}&-7&5&\\frac{14}{15}\\\\\\frac{2}{9}&9&-6&- \\frac{17}{15}\\\\\\frac{4}{9}&0&-3&- \\frac{7}{15}\\\\\\frac{1}{9}&0&0&\\frac{1}{30}\\\\0&1&0&0\\\\0&0&1&0\\\\0&2&-2&- \\frac{3}{10}\\\\ \\end{array} \\right]$",
            "text/latex": "$\\left[ \\begin{array}{cccc}\\frac{1}{3}&0&0&- \\frac{1}{5}\\\\\\frac{1}{9}&-7&5&\\frac{14}{15}\\\\\\frac{2}{9}&9&-6&- \\frac{17}{15}\\\\\\frac{4}{9}&0&-3&- \\frac{7}{15}\\\\\\frac{1}{9}&0&0&\\frac{1}{30}\\\\0&1&0&0\\\\0&0&1&0\\\\0&2&-2&- \\frac{3}{10}\\\\ \\end{array} \\right]$"
          },
          "metadata": {},
          "execution_count": 22
        }
      ]
    },
    {
      "cell_type": "markdown",
      "source": [
        "$\\left[ \\begin{array}{cccc}\\frac{1}{3}&0&0&- \\frac{1}{5}\\\\\\frac{1}{9}&-7&5&\\frac{14}{15}\\\\\\frac{2}{9}&9&-6&- \\frac{17}{15}\\\\\\frac{4}{9}&0&-3&- \\frac{7}{15}\\\\\\frac{1}{9}&0&0&\\frac{1}{30}\\\\0&1&0&0\\\\0&0&1&0\\\\0&2&-2&- \\frac{3}{10}\\\\ \\end{array} \\right]$"
      ],
      "metadata": {
        "id": "Ul-APiKE_rjh"
      }
    },
    {
      "cell_type": "code",
      "source": [
        "Z&T((-5,4,3))"
      ],
      "metadata": {
        "colab": {
          "base_uri": "https://localhost:8080/",
          "height": 64
        },
        "id": "c_Olgx2T_tPf",
        "outputId": "b494da6f-c804-40cd-b9c5-53cdcf878e50"
      },
      "execution_count": 23,
      "outputs": [
        {
          "output_type": "execute_result",
          "data": {
            "text/plain": [
              "Matrix([Vector([1/3, 1/9, 2/9, 4/9, 1/9, 0, 0, 0]), Vector([0, -7, 9, 0, 0, 1, 0, 2]), Vector([1, 1/3, -1/3, -2/3, -1/6, 0, 1, -1/2]), Vector([-1/5, 14/15, -17/15, -7/15, 1/30, 0, 0, -3/10])])"
            ],
            "text/html": [
              "<p style=\"text-align:center;\">$\\left[ \\begin{array}{cccc}\\frac{1}{3}&0&1&- \\frac{1}{5}\\\\\\frac{1}{9}&-7&\\frac{1}{3}&\\frac{14}{15}\\\\\\frac{2}{9}&9&- \\frac{1}{3}&- \\frac{17}{15}\\\\\\frac{4}{9}&0&- \\frac{2}{3}&- \\frac{7}{15}\\\\\\frac{1}{9}&0&- \\frac{1}{6}&\\frac{1}{30}\\\\0&1&0&0\\\\0&0&1&0\\\\0&2&- \\frac{1}{2}&- \\frac{3}{10}\\\\ \\end{array} \\right]$</p>"
            ],
            "image/png": "$\\left[ \\begin{array}{cccc}\\frac{1}{3}&0&1&- \\frac{1}{5}\\\\\\frac{1}{9}&-7&\\frac{1}{3}&\\frac{14}{15}\\\\\\frac{2}{9}&9&- \\frac{1}{3}&- \\frac{17}{15}\\\\\\frac{4}{9}&0&- \\frac{2}{3}&- \\frac{7}{15}\\\\\\frac{1}{9}&0&- \\frac{1}{6}&\\frac{1}{30}\\\\0&1&0&0\\\\0&0&1&0\\\\0&2&- \\frac{1}{2}&- \\frac{3}{10}\\\\ \\end{array} \\right]$",
            "text/latex": "$\\left[ \\begin{array}{cccc}\\frac{1}{3}&0&1&- \\frac{1}{5}\\\\\\frac{1}{9}&-7&\\frac{1}{3}&\\frac{14}{15}\\\\\\frac{2}{9}&9&- \\frac{1}{3}&- \\frac{17}{15}\\\\\\frac{4}{9}&0&- \\frac{2}{3}&- \\frac{7}{15}\\\\\\frac{1}{9}&0&- \\frac{1}{6}&\\frac{1}{30}\\\\0&1&0&0\\\\0&0&1&0\\\\0&2&- \\frac{1}{2}&- \\frac{3}{10}\\\\ \\end{array} \\right]$"
          },
          "metadata": {},
          "execution_count": 23
        }
      ]
    },
    {
      "cell_type": "markdown",
      "source": [
        "$\\left[ \\begin{array}{cccc}\\frac{1}{3}&0&1&- \\frac{1}{5}\\\\\\frac{1}{9}&-7&\\frac{1}{3}&\\frac{14}{15}\\\\\\frac{2}{9}&9&- \\frac{1}{3}&- \\frac{17}{15}\\\\\\frac{4}{9}&0&- \\frac{2}{3}&- \\frac{7}{15}\\\\\\frac{1}{9}&0&- \\frac{1}{6}&\\frac{1}{30}\\\\0&1&0&0\\\\0&0&1&0\\\\0&2&- \\frac{1}{2}&- \\frac{3}{10}\\\\ \\end{array} \\right]$"
      ],
      "metadata": {
        "id": "_VvRpwDp_0GK"
      }
    },
    {
      "cell_type": "code",
      "source": [
        "Z&T((fracc(-1,3),4,1))"
      ],
      "metadata": {
        "colab": {
          "base_uri": "https://localhost:8080/",
          "height": 64
        },
        "id": "NVK1gAEn_16U",
        "outputId": "db552acb-7f30-4c84-c530-128eeba3f6e5"
      },
      "execution_count": 24,
      "outputs": [
        {
          "output_type": "execute_result",
          "data": {
            "text/plain": [
              "Matrix([Vector([2/5, -1/5, 3/5, 3/5, 1/10, 0, 0, 1/10]), Vector([0, -7, 9, 0, 0, 1, 0, 2]), Vector([1, 1/3, -1/3, -2/3, -1/6, 0, 1, -1/2]), Vector([-1/5, 14/15, -17/15, -7/15, 1/30, 0, 0, -3/10])])"
            ],
            "text/html": [
              "<p style=\"text-align:center;\">$\\left[ \\begin{array}{cccc}\\frac{2}{5}&0&1&- \\frac{1}{5}\\\\- \\frac{1}{5}&-7&\\frac{1}{3}&\\frac{14}{15}\\\\\\frac{3}{5}&9&- \\frac{1}{3}&- \\frac{17}{15}\\\\\\frac{3}{5}&0&- \\frac{2}{3}&- \\frac{7}{15}\\\\\\frac{1}{10}&0&- \\frac{1}{6}&\\frac{1}{30}\\\\0&1&0&0\\\\0&0&1&0\\\\\\frac{1}{10}&2&- \\frac{1}{2}&- \\frac{3}{10}\\\\ \\end{array} \\right]$</p>"
            ],
            "image/png": "$\\left[ \\begin{array}{cccc}\\frac{2}{5}&0&1&- \\frac{1}{5}\\\\- \\frac{1}{5}&-7&\\frac{1}{3}&\\frac{14}{15}\\\\\\frac{3}{5}&9&- \\frac{1}{3}&- \\frac{17}{15}\\\\\\frac{3}{5}&0&- \\frac{2}{3}&- \\frac{7}{15}\\\\\\frac{1}{10}&0&- \\frac{1}{6}&\\frac{1}{30}\\\\0&1&0&0\\\\0&0&1&0\\\\\\frac{1}{10}&2&- \\frac{1}{2}&- \\frac{3}{10}\\\\ \\end{array} \\right]$",
            "text/latex": "$\\left[ \\begin{array}{cccc}\\frac{2}{5}&0&1&- \\frac{1}{5}\\\\- \\frac{1}{5}&-7&\\frac{1}{3}&\\frac{14}{15}\\\\\\frac{3}{5}&9&- \\frac{1}{3}&- \\frac{17}{15}\\\\\\frac{3}{5}&0&- \\frac{2}{3}&- \\frac{7}{15}\\\\\\frac{1}{10}&0&- \\frac{1}{6}&\\frac{1}{30}\\\\0&1&0&0\\\\0&0&1&0\\\\\\frac{1}{10}&2&- \\frac{1}{2}&- \\frac{3}{10}\\\\ \\end{array} \\right]$"
          },
          "metadata": {},
          "execution_count": 24
        }
      ]
    },
    {
      "cell_type": "markdown",
      "source": [
        "$\\left[ \\begin{array}{cccc}\\frac{2}{5}&0&1&- \\frac{1}{5}\\\\- \\frac{1}{5}&-7&\\frac{1}{3}&\\frac{14}{15}\\\\\\frac{3}{5}&9&- \\frac{1}{3}&- \\frac{17}{15}\\\\\\frac{3}{5}&0&- \\frac{2}{3}&- \\frac{7}{15}\\\\\\frac{1}{10}&0&- \\frac{1}{6}&\\frac{1}{30}\\\\0&1&0&0\\\\0&0&1&0\\\\\\frac{1}{10}&2&- \\frac{1}{2}&- \\frac{3}{10}\\\\ \\end{array} \\right]$"
      ],
      "metadata": {
        "id": "LGhEC1vs_71y"
      }
    },
    {
      "cell_type": "code",
      "source": [
        "Z&T((fracc(-1,7),2))"
      ],
      "metadata": {
        "colab": {
          "base_uri": "https://localhost:8080/",
          "height": 64
        },
        "id": "INlrvcHb_9kD",
        "outputId": "c09b8040-dcf5-423b-bf6e-6c766ed80c69"
      },
      "execution_count": 25,
      "outputs": [
        {
          "output_type": "execute_result",
          "data": {
            "text/plain": [
              "Matrix([Vector([2/5, -1/5, 3/5, 3/5, 1/10, 0, 0, 1/10]), Vector([0, 1, -9/7, 0, 0, -1/7, 0, -2/7]), Vector([1, 1/3, -1/3, -2/3, -1/6, 0, 1, -1/2]), Vector([-1/5, 14/15, -17/15, -7/15, 1/30, 0, 0, -3/10])])"
            ],
            "text/html": [
              "<p style=\"text-align:center;\">$\\left[ \\begin{array}{cccc}\\frac{2}{5}&0&1&- \\frac{1}{5}\\\\- \\frac{1}{5}&1&\\frac{1}{3}&\\frac{14}{15}\\\\\\frac{3}{5}&- \\frac{9}{7}&- \\frac{1}{3}&- \\frac{17}{15}\\\\\\frac{3}{5}&0&- \\frac{2}{3}&- \\frac{7}{15}\\\\\\frac{1}{10}&0&- \\frac{1}{6}&\\frac{1}{30}\\\\0&- \\frac{1}{7}&0&0\\\\0&0&1&0\\\\\\frac{1}{10}&- \\frac{2}{7}&- \\frac{1}{2}&- \\frac{3}{10}\\\\ \\end{array} \\right]$</p>"
            ],
            "image/png": "$\\left[ \\begin{array}{cccc}\\frac{2}{5}&0&1&- \\frac{1}{5}\\\\- \\frac{1}{5}&1&\\frac{1}{3}&\\frac{14}{15}\\\\\\frac{3}{5}&- \\frac{9}{7}&- \\frac{1}{3}&- \\frac{17}{15}\\\\\\frac{3}{5}&0&- \\frac{2}{3}&- \\frac{7}{15}\\\\\\frac{1}{10}&0&- \\frac{1}{6}&\\frac{1}{30}\\\\0&- \\frac{1}{7}&0&0\\\\0&0&1&0\\\\\\frac{1}{10}&- \\frac{2}{7}&- \\frac{1}{2}&- \\frac{3}{10}\\\\ \\end{array} \\right]$",
            "text/latex": "$\\left[ \\begin{array}{cccc}\\frac{2}{5}&0&1&- \\frac{1}{5}\\\\- \\frac{1}{5}&1&\\frac{1}{3}&\\frac{14}{15}\\\\\\frac{3}{5}&- \\frac{9}{7}&- \\frac{1}{3}&- \\frac{17}{15}\\\\\\frac{3}{5}&0&- \\frac{2}{3}&- \\frac{7}{15}\\\\\\frac{1}{10}&0&- \\frac{1}{6}&\\frac{1}{30}\\\\0&- \\frac{1}{7}&0&0\\\\0&0&1&0\\\\\\frac{1}{10}&- \\frac{2}{7}&- \\frac{1}{2}&- \\frac{3}{10}\\\\ \\end{array} \\right]$"
          },
          "metadata": {},
          "execution_count": 25
        }
      ]
    },
    {
      "cell_type": "markdown",
      "source": [
        "$\\left[ \\begin{array}{cccc}\\frac{2}{5}&0&1&- \\frac{1}{5}\\\\- \\frac{1}{5}&1&\\frac{1}{3}&\\frac{14}{15}\\\\\\frac{3}{5}&- \\frac{9}{7}&- \\frac{1}{3}&- \\frac{17}{15}\\\\\\frac{3}{5}&0&- \\frac{2}{3}&- \\frac{7}{15}\\\\\\frac{1}{10}&0&- \\frac{1}{6}&\\frac{1}{30}\\\\0&- \\frac{1}{7}&0&0\\\\0&0&1&0\\\\\\frac{1}{10}&- \\frac{2}{7}&- \\frac{1}{2}&- \\frac{3}{10}\\\\ \\end{array} \\right]$"
      ],
      "metadata": {
        "id": "VnB2hJ9yACEY"
      }
    },
    {
      "cell_type": "code",
      "source": [
        "Z&T((-1,2,4))"
      ],
      "metadata": {
        "colab": {
          "base_uri": "https://localhost:8080/",
          "height": 64
        },
        "id": "yFWoOt7UAEB-",
        "outputId": "31131694-1034-48bc-f139-c52a6a54c6dd"
      },
      "execution_count": 26,
      "outputs": [
        {
          "output_type": "execute_result",
          "data": {
            "text/plain": [
              "Matrix([Vector([2/5, -1/5, 3/5, 3/5, 1/10, 0, 0, 1/10]), Vector([0, 1, -9/7, 0, 0, -1/7, 0, -2/7]), Vector([1, 1/3, -1/3, -2/3, -1/6, 0, 1, -1/2]), Vector([-1/5, -1/15, 16/105, -7/15, 1/30, 1/7, 0, -1/70])])"
            ],
            "text/html": [
              "<p style=\"text-align:center;\">$\\left[ \\begin{array}{cccc}\\frac{2}{5}&0&1&- \\frac{1}{5}\\\\- \\frac{1}{5}&1&\\frac{1}{3}&- \\frac{1}{15}\\\\\\frac{3}{5}&- \\frac{9}{7}&- \\frac{1}{3}&\\frac{16}{105}\\\\\\frac{3}{5}&0&- \\frac{2}{3}&- \\frac{7}{15}\\\\\\frac{1}{10}&0&- \\frac{1}{6}&\\frac{1}{30}\\\\0&- \\frac{1}{7}&0&\\frac{1}{7}\\\\0&0&1&0\\\\\\frac{1}{10}&- \\frac{2}{7}&- \\frac{1}{2}&- \\frac{1}{70}\\\\ \\end{array} \\right]$</p>"
            ],
            "image/png": "$\\left[ \\begin{array}{cccc}\\frac{2}{5}&0&1&- \\frac{1}{5}\\\\- \\frac{1}{5}&1&\\frac{1}{3}&- \\frac{1}{15}\\\\\\frac{3}{5}&- \\frac{9}{7}&- \\frac{1}{3}&\\frac{16}{105}\\\\\\frac{3}{5}&0&- \\frac{2}{3}&- \\frac{7}{15}\\\\\\frac{1}{10}&0&- \\frac{1}{6}&\\frac{1}{30}\\\\0&- \\frac{1}{7}&0&\\frac{1}{7}\\\\0&0&1&0\\\\\\frac{1}{10}&- \\frac{2}{7}&- \\frac{1}{2}&- \\frac{1}{70}\\\\ \\end{array} \\right]$",
            "text/latex": "$\\left[ \\begin{array}{cccc}\\frac{2}{5}&0&1&- \\frac{1}{5}\\\\- \\frac{1}{5}&1&\\frac{1}{3}&- \\frac{1}{15}\\\\\\frac{3}{5}&- \\frac{9}{7}&- \\frac{1}{3}&\\frac{16}{105}\\\\\\frac{3}{5}&0&- \\frac{2}{3}&- \\frac{7}{15}\\\\\\frac{1}{10}&0&- \\frac{1}{6}&\\frac{1}{30}\\\\0&- \\frac{1}{7}&0&\\frac{1}{7}\\\\0&0&1&0\\\\\\frac{1}{10}&- \\frac{2}{7}&- \\frac{1}{2}&- \\frac{1}{70}\\\\ \\end{array} \\right]$"
          },
          "metadata": {},
          "execution_count": 26
        }
      ]
    },
    {
      "cell_type": "markdown",
      "source": [
        "$\\left[ \\begin{array}{cccc}\\frac{2}{5}&0&1&- \\frac{1}{5}\\\\- \\frac{1}{5}&1&\\frac{1}{3}&- \\frac{1}{15}\\\\\\frac{3}{5}&- \\frac{9}{7}&- \\frac{1}{3}&\\frac{16}{105}\\\\\\frac{3}{5}&0&- \\frac{2}{3}&- \\frac{7}{15}\\\\\\frac{1}{10}&0&- \\frac{1}{6}&\\frac{1}{30}\\\\0&- \\frac{1}{7}&0&\\frac{1}{7}\\\\0&0&1&0\\\\\\frac{1}{10}&- \\frac{2}{7}&- \\frac{1}{2}&- \\frac{1}{70}\\\\ \\end{array} \\right]$"
      ],
      "metadata": {
        "id": "gI-Qp62UAKIa"
      }
    },
    {
      "cell_type": "code",
      "source": [
        "Z&T((fracc(-1,1),3))"
      ],
      "metadata": {
        "colab": {
          "base_uri": "https://localhost:8080/",
          "height": 64
        },
        "id": "j6LBahVVALrI",
        "outputId": "cb846f33-ff09-4698-e9da-2de7f78e03c8"
      },
      "execution_count": 27,
      "outputs": [
        {
          "output_type": "execute_result",
          "data": {
            "text/plain": [
              "Matrix([Vector([2/5, -1/5, 3/5, 3/5, 1/10, 0, 0, 1/10]), Vector([0, 1, -9/7, 0, 0, -1/7, 0, -2/7]), Vector([-1, -1/3, 1/3, 2/3, 1/6, 0, -1, 1/2]), Vector([-1/5, -1/15, 16/105, -7/15, 1/30, 1/7, 0, -1/70])])"
            ],
            "text/html": [
              "<p style=\"text-align:center;\">$\\left[ \\begin{array}{cccc}\\frac{2}{5}&0&-1&- \\frac{1}{5}\\\\- \\frac{1}{5}&1&- \\frac{1}{3}&- \\frac{1}{15}\\\\\\frac{3}{5}&- \\frac{9}{7}&\\frac{1}{3}&\\frac{16}{105}\\\\\\frac{3}{5}&0&\\frac{2}{3}&- \\frac{7}{15}\\\\\\frac{1}{10}&0&\\frac{1}{6}&\\frac{1}{30}\\\\0&- \\frac{1}{7}&0&\\frac{1}{7}\\\\0&0&-1&0\\\\\\frac{1}{10}&- \\frac{2}{7}&\\frac{1}{2}&- \\frac{1}{70}\\\\ \\end{array} \\right]$</p>"
            ],
            "image/png": "$\\left[ \\begin{array}{cccc}\\frac{2}{5}&0&-1&- \\frac{1}{5}\\\\- \\frac{1}{5}&1&- \\frac{1}{3}&- \\frac{1}{15}\\\\\\frac{3}{5}&- \\frac{9}{7}&\\frac{1}{3}&\\frac{16}{105}\\\\\\frac{3}{5}&0&\\frac{2}{3}&- \\frac{7}{15}\\\\\\frac{1}{10}&0&\\frac{1}{6}&\\frac{1}{30}\\\\0&- \\frac{1}{7}&0&\\frac{1}{7}\\\\0&0&-1&0\\\\\\frac{1}{10}&- \\frac{2}{7}&\\frac{1}{2}&- \\frac{1}{70}\\\\ \\end{array} \\right]$",
            "text/latex": "$\\left[ \\begin{array}{cccc}\\frac{2}{5}&0&-1&- \\frac{1}{5}\\\\- \\frac{1}{5}&1&- \\frac{1}{3}&- \\frac{1}{15}\\\\\\frac{3}{5}&- \\frac{9}{7}&\\frac{1}{3}&\\frac{16}{105}\\\\\\frac{3}{5}&0&\\frac{2}{3}&- \\frac{7}{15}\\\\\\frac{1}{10}&0&\\frac{1}{6}&\\frac{1}{30}\\\\0&- \\frac{1}{7}&0&\\frac{1}{7}\\\\0&0&-1&0\\\\\\frac{1}{10}&- \\frac{2}{7}&\\frac{1}{2}&- \\frac{1}{70}\\\\ \\end{array} \\right]$"
          },
          "metadata": {},
          "execution_count": 27
        }
      ]
    },
    {
      "cell_type": "markdown",
      "source": [
        "$\\left[ \\begin{array}{cccc}\\frac{2}{5}&0&-1&- \\frac{1}{5}\\\\- \\frac{1}{5}&1&- \\frac{1}{3}&- \\frac{1}{15}\\\\\\frac{3}{5}&- \\frac{9}{7}&\\frac{1}{3}&\\frac{16}{105}\\\\\\frac{3}{5}&0&\\frac{2}{3}&- \\frac{7}{15}\\\\\\frac{1}{10}&0&\\frac{1}{6}&\\frac{1}{30}\\\\0&- \\frac{1}{7}&0&\\frac{1}{7}\\\\0&0&-1&0\\\\\\frac{1}{10}&- \\frac{2}{7}&\\frac{1}{2}&- \\frac{1}{70}\\\\ \\end{array} \\right]$"
      ],
      "metadata": {
        "id": "V3UP_sZ1AQQZ"
      }
    },
    {
      "cell_type": "code",
      "source": [
        "Z&T((-1,3,1))"
      ],
      "metadata": {
        "colab": {
          "base_uri": "https://localhost:8080/",
          "height": 64
        },
        "id": "4zqVzoueAUy3",
        "outputId": "2a204d8d-2d95-4af8-c8b0-e9eb53b59af6"
      },
      "execution_count": 28,
      "outputs": [
        {
          "output_type": "execute_result",
          "data": {
            "text/plain": [
              "Matrix([Vector([7/5, 2/15, 4/15, -1/15, -1/15, 0, 1, -2/5]), Vector([0, 1, -9/7, 0, 0, -1/7, 0, -2/7]), Vector([-1, -1/3, 1/3, 2/3, 1/6, 0, -1, 1/2]), Vector([-1/5, -1/15, 16/105, -7/15, 1/30, 1/7, 0, -1/70])])"
            ],
            "text/html": [
              "<p style=\"text-align:center;\">$\\left[ \\begin{array}{cccc}\\frac{7}{5}&0&-1&- \\frac{1}{5}\\\\\\frac{2}{15}&1&- \\frac{1}{3}&- \\frac{1}{15}\\\\\\frac{4}{15}&- \\frac{9}{7}&\\frac{1}{3}&\\frac{16}{105}\\\\- \\frac{1}{15}&0&\\frac{2}{3}&- \\frac{7}{15}\\\\- \\frac{1}{15}&0&\\frac{1}{6}&\\frac{1}{30}\\\\0&- \\frac{1}{7}&0&\\frac{1}{7}\\\\1&0&-1&0\\\\- \\frac{2}{5}&- \\frac{2}{7}&\\frac{1}{2}&- \\frac{1}{70}\\\\ \\end{array} \\right]$</p>"
            ],
            "image/png": "$\\left[ \\begin{array}{cccc}\\frac{7}{5}&0&-1&- \\frac{1}{5}\\\\\\frac{2}{15}&1&- \\frac{1}{3}&- \\frac{1}{15}\\\\\\frac{4}{15}&- \\frac{9}{7}&\\frac{1}{3}&\\frac{16}{105}\\\\- \\frac{1}{15}&0&\\frac{2}{3}&- \\frac{7}{15}\\\\- \\frac{1}{15}&0&\\frac{1}{6}&\\frac{1}{30}\\\\0&- \\frac{1}{7}&0&\\frac{1}{7}\\\\1&0&-1&0\\\\- \\frac{2}{5}&- \\frac{2}{7}&\\frac{1}{2}&- \\frac{1}{70}\\\\ \\end{array} \\right]$",
            "text/latex": "$\\left[ \\begin{array}{cccc}\\frac{7}{5}&0&-1&- \\frac{1}{5}\\\\\\frac{2}{15}&1&- \\frac{1}{3}&- \\frac{1}{15}\\\\\\frac{4}{15}&- \\frac{9}{7}&\\frac{1}{3}&\\frac{16}{105}\\\\- \\frac{1}{15}&0&\\frac{2}{3}&- \\frac{7}{15}\\\\- \\frac{1}{15}&0&\\frac{1}{6}&\\frac{1}{30}\\\\0&- \\frac{1}{7}&0&\\frac{1}{7}\\\\1&0&-1&0\\\\- \\frac{2}{5}&- \\frac{2}{7}&\\frac{1}{2}&- \\frac{1}{70}\\\\ \\end{array} \\right]$"
          },
          "metadata": {},
          "execution_count": 28
        }
      ]
    },
    {
      "cell_type": "markdown",
      "source": [
        "$\\left[ \\begin{array}{cccc}\\frac{7}{5}&0&-1&- \\frac{1}{5}\\\\\\frac{2}{15}&1&- \\frac{1}{3}&- \\frac{1}{15}\\\\\\frac{4}{15}&- \\frac{9}{7}&\\frac{1}{3}&\\frac{16}{105}\\\\- \\frac{1}{15}&0&\\frac{2}{3}&- \\frac{7}{15}\\\\- \\frac{1}{15}&0&\\frac{1}{6}&\\frac{1}{30}\\\\0&- \\frac{1}{7}&0&\\frac{1}{7}\\\\1&0&-1&0\\\\- \\frac{2}{5}&- \\frac{2}{7}&\\frac{1}{2}&- \\frac{1}{70}\\\\ \\end{array} \\right]$"
      ],
      "metadata": {
        "id": "q-_ulNDvAbdA"
      }
    },
    {
      "cell_type": "code",
      "source": [
        "Z&T((fracc(9,7),3,2))"
      ],
      "metadata": {
        "colab": {
          "base_uri": "https://localhost:8080/",
          "height": 81
        },
        "id": "THpZ54NCAdSe",
        "outputId": "ad0b1623-2f47-4e46-9383-5f9d36f162e9"
      },
      "execution_count": 29,
      "outputs": [
        {
          "output_type": "execute_result",
          "data": {
            "text/plain": [
              "Matrix([Vector([7/5, 2/15, 4/15, -1/15, -1/15, 0, 1, -2/5]), Vector([-9/7, 4/7, -6/7, 6/7, 3/14, -1/7, -9/7, 5/14]), Vector([-1, -1/3, 1/3, 2/3, 1/6, 0, -1, 1/2]), Vector([-1/5, -1/15, 16/105, -7/15, 1/30, 1/7, 0, -1/70])])"
            ],
            "text/html": [
              "<p style=\"text-align:center;\">$\\left[ \\begin{array}{cccc}\\frac{7}{5}&- \\frac{9}{7}&-1&- \\frac{1}{5}\\\\\\frac{2}{15}&\\frac{4}{7}&- \\frac{1}{3}&- \\frac{1}{15}\\\\\\frac{4}{15}&- \\frac{6}{7}&\\frac{1}{3}&\\frac{16}{105}\\\\- \\frac{1}{15}&\\frac{6}{7}&\\frac{2}{3}&- \\frac{7}{15}\\\\- \\frac{1}{15}&\\frac{3}{14}&\\frac{1}{6}&\\frac{1}{30}\\\\0&- \\frac{1}{7}&0&\\frac{1}{7}\\\\1&- \\frac{9}{7}&-1&0\\\\- \\frac{2}{5}&\\frac{5}{14}&\\frac{1}{2}&- \\frac{1}{70}\\\\ \\end{array} \\right]$</p>"
            ],
            "image/png": "$\\left[ \\begin{array}{cccc}\\frac{7}{5}&- \\frac{9}{7}&-1&- \\frac{1}{5}\\\\\\frac{2}{15}&\\frac{4}{7}&- \\frac{1}{3}&- \\frac{1}{15}\\\\\\frac{4}{15}&- \\frac{6}{7}&\\frac{1}{3}&\\frac{16}{105}\\\\- \\frac{1}{15}&\\frac{6}{7}&\\frac{2}{3}&- \\frac{7}{15}\\\\- \\frac{1}{15}&\\frac{3}{14}&\\frac{1}{6}&\\frac{1}{30}\\\\0&- \\frac{1}{7}&0&\\frac{1}{7}\\\\1&- \\frac{9}{7}&-1&0\\\\- \\frac{2}{5}&\\frac{5}{14}&\\frac{1}{2}&- \\frac{1}{70}\\\\ \\end{array} \\right]$",
            "text/latex": "$\\left[ \\begin{array}{cccc}\\frac{7}{5}&- \\frac{9}{7}&-1&- \\frac{1}{5}\\\\\\frac{2}{15}&\\frac{4}{7}&- \\frac{1}{3}&- \\frac{1}{15}\\\\\\frac{4}{15}&- \\frac{6}{7}&\\frac{1}{3}&\\frac{16}{105}\\\\- \\frac{1}{15}&\\frac{6}{7}&\\frac{2}{3}&- \\frac{7}{15}\\\\- \\frac{1}{15}&\\frac{3}{14}&\\frac{1}{6}&\\frac{1}{30}\\\\0&- \\frac{1}{7}&0&\\frac{1}{7}\\\\1&- \\frac{9}{7}&-1&0\\\\- \\frac{2}{5}&\\frac{5}{14}&\\frac{1}{2}&- \\frac{1}{70}\\\\ \\end{array} \\right]$"
          },
          "metadata": {},
          "execution_count": 29
        }
      ]
    },
    {
      "cell_type": "markdown",
      "source": [
        "$\\left[ \\begin{array}{cccc}\\frac{7}{5}&- \\frac{9}{7}&-1&- \\frac{1}{5}\\\\\\frac{2}{15}&\\frac{4}{7}&- \\frac{1}{3}&- \\frac{1}{15}\\\\\\frac{4}{15}&- \\frac{6}{7}&\\frac{1}{3}&\\frac{16}{105}\\\\- \\frac{1}{15}&\\frac{6}{7}&\\frac{2}{3}&- \\frac{7}{15}\\\\- \\frac{1}{15}&\\frac{3}{14}&\\frac{1}{6}&\\frac{1}{30}\\\\0&- \\frac{1}{7}&0&\\frac{1}{7}\\\\1&- \\frac{9}{7}&-1&0\\\\- \\frac{2}{5}&\\frac{5}{14}&\\frac{1}{2}&- \\frac{1}{70}\\\\ \\end{array} \\right]$"
      ],
      "metadata": {
        "id": "dpmsMKAxAjM1"
      }
    },
    {
      "cell_type": "code",
      "source": [
        "Z&T((fracc(-2,7),3,4))"
      ],
      "metadata": {
        "colab": {
          "base_uri": "https://localhost:8080/",
          "height": 81
        },
        "id": "t4fWgtjLAo05",
        "outputId": "c721b5a6-f15e-4879-998c-fd4ac562f588"
      },
      "execution_count": 30,
      "outputs": [
        {
          "output_type": "execute_result",
          "data": {
            "text/plain": [
              "Matrix([Vector([7/5, 2/15, 4/15, -1/15, -1/15, 0, 1, -2/5]), Vector([-9/7, 4/7, -6/7, 6/7, 3/14, -1/7, -9/7, 5/14]), Vector([-1, -1/3, 1/3, 2/3, 1/6, 0, -1, 1/2]), Vector([3/35, 1/35, 2/35, -23/35, -1/70, 1/7, 2/7, -11/70])])"
            ],
            "text/html": [
              "<p style=\"text-align:center;\">$\\left[ \\begin{array}{cccc}\\frac{7}{5}&- \\frac{9}{7}&-1&\\frac{3}{35}\\\\\\frac{2}{15}&\\frac{4}{7}&- \\frac{1}{3}&\\frac{1}{35}\\\\\\frac{4}{15}&- \\frac{6}{7}&\\frac{1}{3}&\\frac{2}{35}\\\\- \\frac{1}{15}&\\frac{6}{7}&\\frac{2}{3}&- \\frac{23}{35}\\\\- \\frac{1}{15}&\\frac{3}{14}&\\frac{1}{6}&- \\frac{1}{70}\\\\0&- \\frac{1}{7}&0&\\frac{1}{7}\\\\1&- \\frac{9}{7}&-1&\\frac{2}{7}\\\\- \\frac{2}{5}&\\frac{5}{14}&\\frac{1}{2}&- \\frac{11}{70}\\\\ \\end{array} \\right]$</p>"
            ],
            "image/png": "$\\left[ \\begin{array}{cccc}\\frac{7}{5}&- \\frac{9}{7}&-1&\\frac{3}{35}\\\\\\frac{2}{15}&\\frac{4}{7}&- \\frac{1}{3}&\\frac{1}{35}\\\\\\frac{4}{15}&- \\frac{6}{7}&\\frac{1}{3}&\\frac{2}{35}\\\\- \\frac{1}{15}&\\frac{6}{7}&\\frac{2}{3}&- \\frac{23}{35}\\\\- \\frac{1}{15}&\\frac{3}{14}&\\frac{1}{6}&- \\frac{1}{70}\\\\0&- \\frac{1}{7}&0&\\frac{1}{7}\\\\1&- \\frac{9}{7}&-1&\\frac{2}{7}\\\\- \\frac{2}{5}&\\frac{5}{14}&\\frac{1}{2}&- \\frac{11}{70}\\\\ \\end{array} \\right]$",
            "text/latex": "$\\left[ \\begin{array}{cccc}\\frac{7}{5}&- \\frac{9}{7}&-1&\\frac{3}{35}\\\\\\frac{2}{15}&\\frac{4}{7}&- \\frac{1}{3}&\\frac{1}{35}\\\\\\frac{4}{15}&- \\frac{6}{7}&\\frac{1}{3}&\\frac{2}{35}\\\\- \\frac{1}{15}&\\frac{6}{7}&\\frac{2}{3}&- \\frac{23}{35}\\\\- \\frac{1}{15}&\\frac{3}{14}&\\frac{1}{6}&- \\frac{1}{70}\\\\0&- \\frac{1}{7}&0&\\frac{1}{7}\\\\1&- \\frac{9}{7}&-1&\\frac{2}{7}\\\\- \\frac{2}{5}&\\frac{5}{14}&\\frac{1}{2}&- \\frac{11}{70}\\\\ \\end{array} \\right]$"
          },
          "metadata": {},
          "execution_count": 30
        }
      ]
    },
    {
      "cell_type": "markdown",
      "source": [
        "$\\left[ \\begin{array}{cccc}\\frac{7}{5}&- \\frac{9}{7}&-1&\\frac{3}{35}\\\\\\frac{2}{15}&\\frac{4}{7}&- \\frac{1}{3}&\\frac{1}{35}\\\\\\frac{4}{15}&- \\frac{6}{7}&\\frac{1}{3}&\\frac{2}{35}\\\\- \\frac{1}{15}&\\frac{6}{7}&\\frac{2}{3}&- \\frac{23}{35}\\\\- \\frac{1}{15}&\\frac{3}{14}&\\frac{1}{6}&- \\frac{1}{70}\\\\0&- \\frac{1}{7}&0&\\frac{1}{7}\\\\1&- \\frac{9}{7}&-1&\\frac{2}{7}\\\\- \\frac{2}{5}&\\frac{5}{14}&\\frac{1}{2}&- \\frac{11}{70}\\\\ \\end{array} \\right]$"
      ],
      "metadata": {
        "id": "MYZHt9kAArnN"
      }
    },
    {
      "cell_type": "code",
      "source": [
        "Z&T((fracc(-35,27),4))"
      ],
      "metadata": {
        "colab": {
          "base_uri": "https://localhost:8080/",
          "height": 81
        },
        "id": "72Y5vVU6Athr",
        "outputId": "145119e8-c4a1-456c-ae41-853c9db2cc6f"
      },
      "execution_count": 31,
      "outputs": [
        {
          "output_type": "execute_result",
          "data": {
            "text/plain": [
              "Matrix([Vector([7/5, 2/15, 4/15, -1/15, -1/15, 0, 1, -2/5]), Vector([-9/7, 4/7, -6/7, 6/7, 3/14, -1/7, -9/7, 5/14]), Vector([-1, -1/3, 1/3, 2/3, 1/6, 0, -1, 1/2]), Vector([-1/9, -1/27, -2/27, 23/27, 1/54, -5/27, -10/27, 11/54])])"
            ],
            "text/html": [
              "<p style=\"text-align:center;\">$\\left[ \\begin{array}{cccc}\\frac{7}{5}&- \\frac{9}{7}&-1&- \\frac{1}{9}\\\\\\frac{2}{15}&\\frac{4}{7}&- \\frac{1}{3}&- \\frac{1}{27}\\\\\\frac{4}{15}&- \\frac{6}{7}&\\frac{1}{3}&- \\frac{2}{27}\\\\- \\frac{1}{15}&\\frac{6}{7}&\\frac{2}{3}&\\frac{23}{27}\\\\- \\frac{1}{15}&\\frac{3}{14}&\\frac{1}{6}&\\frac{1}{54}\\\\0&- \\frac{1}{7}&0&- \\frac{5}{27}\\\\1&- \\frac{9}{7}&-1&- \\frac{10}{27}\\\\- \\frac{2}{5}&\\frac{5}{14}&\\frac{1}{2}&\\frac{11}{54}\\\\ \\end{array} \\right]$</p>"
            ],
            "image/png": "$\\left[ \\begin{array}{cccc}\\frac{7}{5}&- \\frac{9}{7}&-1&- \\frac{1}{9}\\\\\\frac{2}{15}&\\frac{4}{7}&- \\frac{1}{3}&- \\frac{1}{27}\\\\\\frac{4}{15}&- \\frac{6}{7}&\\frac{1}{3}&- \\frac{2}{27}\\\\- \\frac{1}{15}&\\frac{6}{7}&\\frac{2}{3}&\\frac{23}{27}\\\\- \\frac{1}{15}&\\frac{3}{14}&\\frac{1}{6}&\\frac{1}{54}\\\\0&- \\frac{1}{7}&0&- \\frac{5}{27}\\\\1&- \\frac{9}{7}&-1&- \\frac{10}{27}\\\\- \\frac{2}{5}&\\frac{5}{14}&\\frac{1}{2}&\\frac{11}{54}\\\\ \\end{array} \\right]$",
            "text/latex": "$\\left[ \\begin{array}{cccc}\\frac{7}{5}&- \\frac{9}{7}&-1&- \\frac{1}{9}\\\\\\frac{2}{15}&\\frac{4}{7}&- \\frac{1}{3}&- \\frac{1}{27}\\\\\\frac{4}{15}&- \\frac{6}{7}&\\frac{1}{3}&- \\frac{2}{27}\\\\- \\frac{1}{15}&\\frac{6}{7}&\\frac{2}{3}&\\frac{23}{27}\\\\- \\frac{1}{15}&\\frac{3}{14}&\\frac{1}{6}&\\frac{1}{54}\\\\0&- \\frac{1}{7}&0&- \\frac{5}{27}\\\\1&- \\frac{9}{7}&-1&- \\frac{10}{27}\\\\- \\frac{2}{5}&\\frac{5}{14}&\\frac{1}{2}&\\frac{11}{54}\\\\ \\end{array} \\right]$"
          },
          "metadata": {},
          "execution_count": 31
        }
      ]
    },
    {
      "cell_type": "markdown",
      "source": [
        "$\\left[ \\begin{array}{cccc}\\frac{7}{5}&- \\frac{9}{7}&-1&- \\frac{1}{9}\\\\\\frac{2}{15}&\\frac{4}{7}&- \\frac{1}{3}&- \\frac{1}{27}\\\\\\frac{4}{15}&- \\frac{6}{7}&\\frac{1}{3}&- \\frac{2}{27}\\\\- \\frac{1}{15}&\\frac{6}{7}&\\frac{2}{3}&\\frac{23}{27}\\\\- \\frac{1}{15}&\\frac{3}{14}&\\frac{1}{6}&\\frac{1}{54}\\\\0&- \\frac{1}{7}&0&- \\frac{5}{27}\\\\1&- \\frac{9}{7}&-1&- \\frac{10}{27}\\\\- \\frac{2}{5}&\\frac{5}{14}&\\frac{1}{2}&\\frac{11}{54}\\\\ \\end{array} \\right]$"
      ],
      "metadata": {
        "id": "qgS0L4QKAylh"
      }
    },
    {
      "cell_type": "code",
      "source": [
        "Z&T((fracc(3,5),4,1))\n",
        "Z&T((fracc(-18,7),4,2))\n",
        "Z&T((-2,4,3))"
      ],
      "metadata": {
        "colab": {
          "base_uri": "https://localhost:8080/",
          "height": 81
        },
        "id": "LxxY1hb-A0uv",
        "outputId": "9f9695a4-ca26-4701-9a3c-2a71843eae84"
      },
      "execution_count": 32,
      "outputs": [
        {
          "output_type": "execute_result",
          "data": {
            "text/plain": [
              "Matrix([Vector([4/3, 1/9, 2/9, 4/9, -1/18, -1/9, 7/9, -5/18]), Vector([-1, 2/3, -2/3, -4/3, 1/6, 1/3, -1/3, -1/6]), Vector([-7/9, -7/27, 13/27, -28/27, 7/54, 10/27, -7/27, 5/54]), Vector([-1/9, -1/27, -2/27, 23/27, 1/54, -5/27, -10/27, 11/54])])"
            ],
            "text/html": [
              "<p style=\"text-align:center;\">$\\left[ \\begin{array}{cccc}\\frac{4}{3}&-1&- \\frac{7}{9}&- \\frac{1}{9}\\\\\\frac{1}{9}&\\frac{2}{3}&- \\frac{7}{27}&- \\frac{1}{27}\\\\\\frac{2}{9}&- \\frac{2}{3}&\\frac{13}{27}&- \\frac{2}{27}\\\\\\frac{4}{9}&- \\frac{4}{3}&- \\frac{28}{27}&\\frac{23}{27}\\\\- \\frac{1}{18}&\\frac{1}{6}&\\frac{7}{54}&\\frac{1}{54}\\\\- \\frac{1}{9}&\\frac{1}{3}&\\frac{10}{27}&- \\frac{5}{27}\\\\\\frac{7}{9}&- \\frac{1}{3}&- \\frac{7}{27}&- \\frac{10}{27}\\\\- \\frac{5}{18}&- \\frac{1}{6}&\\frac{5}{54}&\\frac{11}{54}\\\\ \\end{array} \\right]$</p>"
            ],
            "image/png": "$\\left[ \\begin{array}{cccc}\\frac{4}{3}&-1&- \\frac{7}{9}&- \\frac{1}{9}\\\\\\frac{1}{9}&\\frac{2}{3}&- \\frac{7}{27}&- \\frac{1}{27}\\\\\\frac{2}{9}&- \\frac{2}{3}&\\frac{13}{27}&- \\frac{2}{27}\\\\\\frac{4}{9}&- \\frac{4}{3}&- \\frac{28}{27}&\\frac{23}{27}\\\\- \\frac{1}{18}&\\frac{1}{6}&\\frac{7}{54}&\\frac{1}{54}\\\\- \\frac{1}{9}&\\frac{1}{3}&\\frac{10}{27}&- \\frac{5}{27}\\\\\\frac{7}{9}&- \\frac{1}{3}&- \\frac{7}{27}&- \\frac{10}{27}\\\\- \\frac{5}{18}&- \\frac{1}{6}&\\frac{5}{54}&\\frac{11}{54}\\\\ \\end{array} \\right]$",
            "text/latex": "$\\left[ \\begin{array}{cccc}\\frac{4}{3}&-1&- \\frac{7}{9}&- \\frac{1}{9}\\\\\\frac{1}{9}&\\frac{2}{3}&- \\frac{7}{27}&- \\frac{1}{27}\\\\\\frac{2}{9}&- \\frac{2}{3}&\\frac{13}{27}&- \\frac{2}{27}\\\\\\frac{4}{9}&- \\frac{4}{3}&- \\frac{28}{27}&\\frac{23}{27}\\\\- \\frac{1}{18}&\\frac{1}{6}&\\frac{7}{54}&\\frac{1}{54}\\\\- \\frac{1}{9}&\\frac{1}{3}&\\frac{10}{27}&- \\frac{5}{27}\\\\\\frac{7}{9}&- \\frac{1}{3}&- \\frac{7}{27}&- \\frac{10}{27}\\\\- \\frac{5}{18}&- \\frac{1}{6}&\\frac{5}{54}&\\frac{11}{54}\\\\ \\end{array} \\right]$"
          },
          "metadata": {},
          "execution_count": 32
        }
      ]
    },
    {
      "cell_type": "markdown",
      "source": [
        "$\\left[ \\begin{array}{cccc}\\frac{4}{3}&-1&- \\frac{7}{9}&- \\frac{1}{9}\\\\\\frac{1}{9}&\\frac{2}{3}&- \\frac{7}{27}&- \\frac{1}{27}\\\\\\frac{2}{9}&- \\frac{2}{3}&\\frac{13}{27}&- \\frac{2}{27}\\\\\\frac{4}{9}&- \\frac{4}{3}&- \\frac{28}{27}&\\frac{23}{27}\\\\- \\frac{1}{18}&\\frac{1}{6}&\\frac{7}{54}&\\frac{1}{54}\\\\- \\frac{1}{9}&\\frac{1}{3}&\\frac{10}{27}&- \\frac{5}{27}\\\\\\frac{7}{9}&- \\frac{1}{3}&- \\frac{7}{27}&- \\frac{10}{27}\\\\- \\frac{5}{18}&- \\frac{1}{6}&\\frac{5}{54}&\\frac{11}{54}\\\\ \\end{array} \\right]$"
      ],
      "metadata": {
        "id": "BxP_uMpNA7Tf"
      }
    },
    {
      "cell_type": "markdown",
      "source": [
        "8. Resuelva el siguiente sistema de ecuaciones:\n",
        "\n",
        "$$ \\begin{array}{ccc}5x&+7y&-z&=6\\\\2x&+10y&-2z&=4\\\\x&+y&+z&=0\\\\ \\end{array} $$"
      ],
      "metadata": {
        "id": "tABrI61xarPE"
      }
    },
    {
      "cell_type": "code",
      "source": [
        "E = Matrix([[5,7,-1],[2,10,-2],[1,1,1]])\n",
        "E"
      ],
      "metadata": {
        "colab": {
          "base_uri": "https://localhost:8080/",
          "height": 46
        },
        "id": "2TcSf7pKBCIv",
        "outputId": "adbe9ac4-0591-4ebb-94fe-af21ae8ca384"
      },
      "execution_count": 34,
      "outputs": [
        {
          "output_type": "execute_result",
          "data": {
            "text/plain": [
              "Matrix([Vector([5, 2, 1]), Vector([7, 10, 1]), Vector([-1, -2, 1])])"
            ],
            "text/html": [
              "<p style=\"text-align:center;\">$\\left[ \\begin{array}{ccc}5&7&-1\\\\2&10&-2\\\\1&1&1\\\\ \\end{array} \\right]$</p>"
            ],
            "image/png": "$\\left[ \\begin{array}{ccc}5&7&-1\\\\2&10&-2\\\\1&1&1\\\\ \\end{array} \\right]$",
            "text/latex": "$\\left[ \\begin{array}{ccc}5&7&-1\\\\2&10&-2\\\\1&1&1\\\\ \\end{array} \\right]$"
          },
          "metadata": {},
          "execution_count": 34
        }
      ]
    },
    {
      "cell_type": "markdown",
      "source": [
        "$\\left[ \\begin{array}{ccc}5&7&-1\\\\2&10&-2\\\\1&1&1\\\\ \\end{array} \\right]$"
      ],
      "metadata": {
        "id": "vN5fHLdXBI3c"
      }
    },
    {
      "cell_type": "code",
      "source": [
        "S = Matrix([[5,7,-1,6],[2,10,-2,4],[1,1,1,0]])\n",
        "S"
      ],
      "metadata": {
        "colab": {
          "base_uri": "https://localhost:8080/",
          "height": 46
        },
        "id": "CLDPoXTBBK4y",
        "outputId": "ce67327f-35a0-47d5-c6ea-d81034df4a58"
      },
      "execution_count": 35,
      "outputs": [
        {
          "output_type": "execute_result",
          "data": {
            "text/plain": [
              "Matrix([Vector([5, 2, 1]), Vector([7, 10, 1]), Vector([-1, -2, 1]), Vector([6, 4, 0])])"
            ],
            "text/html": [
              "<p style=\"text-align:center;\">$\\left[ \\begin{array}{cccc}5&7&-1&6\\\\2&10&-2&4\\\\1&1&1&0\\\\ \\end{array} \\right]$</p>"
            ],
            "image/png": "$\\left[ \\begin{array}{cccc}5&7&-1&6\\\\2&10&-2&4\\\\1&1&1&0\\\\ \\end{array} \\right]$",
            "text/latex": "$\\left[ \\begin{array}{cccc}5&7&-1&6\\\\2&10&-2&4\\\\1&1&1&0\\\\ \\end{array} \\right]$"
          },
          "metadata": {},
          "execution_count": 35
        }
      ]
    },
    {
      "cell_type": "markdown",
      "source": [
        "$\\left[ \\begin{array}{cccc}5&7&-1&6\\\\2&10&-2&4\\\\1&1&1&0\\\\ \\end{array} \\right]$"
      ],
      "metadata": {
        "id": "QAEgtthIBUV0"
      }
    },
    {
      "cell_type": "code",
      "source": [
        "T((fracc(-1,2),2))&S\n",
        "T((1,2,3))&S\n",
        "T((fracc(-1,5),2))&S\n",
        "T((4,2,3))&S\n",
        "T((fracc(1,5),1))&S"
      ],
      "metadata": {
        "colab": {
          "base_uri": "https://localhost:8080/",
          "height": 46
        },
        "id": "_jXnVH0uBWJK",
        "outputId": "aabcc23e-e657-40fe-af2d-9188af26cbbb"
      },
      "execution_count": 36,
      "outputs": [
        {
          "output_type": "execute_result",
          "data": {
            "text/plain": [
              "Matrix([Vector([1, 1/5, 4/5]), Vector([7/5, 1, 0]), Vector([-1/5, -1/5, 6/5]), Vector([6/5, 2/5, -2/5])])"
            ],
            "text/html": [
              "<p style=\"text-align:center;\">$\\left[ \\begin{array}{cccc}1&\\frac{7}{5}&- \\frac{1}{5}&\\frac{6}{5}\\\\\\frac{1}{5}&1&- \\frac{1}{5}&\\frac{2}{5}\\\\\\frac{4}{5}&0&\\frac{6}{5}&- \\frac{2}{5}\\\\ \\end{array} \\right]$</p>"
            ],
            "image/png": "$\\left[ \\begin{array}{cccc}1&\\frac{7}{5}&- \\frac{1}{5}&\\frac{6}{5}\\\\\\frac{1}{5}&1&- \\frac{1}{5}&\\frac{2}{5}\\\\\\frac{4}{5}&0&\\frac{6}{5}&- \\frac{2}{5}\\\\ \\end{array} \\right]$",
            "text/latex": "$\\left[ \\begin{array}{cccc}1&\\frac{7}{5}&- \\frac{1}{5}&\\frac{6}{5}\\\\\\frac{1}{5}&1&- \\frac{1}{5}&\\frac{2}{5}\\\\\\frac{4}{5}&0&\\frac{6}{5}&- \\frac{2}{5}\\\\ \\end{array} \\right]$"
          },
          "metadata": {},
          "execution_count": 36
        }
      ]
    },
    {
      "cell_type": "markdown",
      "source": [
        "$\\left[ \\begin{array}{cccc}1&\\frac{7}{5}&- \\frac{1}{5}&\\frac{6}{5}\\\\\\frac{1}{5}&1&- \\frac{1}{5}&\\frac{2}{5}\\\\\\frac{4}{5}&0&\\frac{6}{5}&- \\frac{2}{5}\\\\ \\end{array} \\right]$"
      ],
      "metadata": {
        "id": "KFDVlulPBfk5"
      }
    },
    {
      "cell_type": "code",
      "source": [
        "T((fracc(5,6),3))&S\n",
        "T((fracc(1,5),3,2))&S\n",
        "T((fracc(-1,3),1,2))&S\n",
        "T((fracc(-2,3),1,3))&S"
      ],
      "metadata": {
        "colab": {
          "base_uri": "https://localhost:8080/",
          "height": 46
        },
        "id": "f9vokkIbBizN",
        "outputId": "4bf0c9f5-0635-4db6-c2dd-1654e8aab20c"
      },
      "execution_count": 37,
      "outputs": [
        {
          "output_type": "execute_result",
          "data": {
            "text/plain": [
              "Matrix([Vector([1, 0, 0]), Vector([7/5, 8/15, -14/15]), Vector([-1/5, 1/15, 17/15]), Vector([6/5, -1/15, -17/15])])"
            ],
            "text/html": [
              "<p style=\"text-align:center;\">$\\left[ \\begin{array}{cccc}1&\\frac{7}{5}&- \\frac{1}{5}&\\frac{6}{5}\\\\0&\\frac{8}{15}&\\frac{1}{15}&- \\frac{1}{15}\\\\0&- \\frac{14}{15}&\\frac{17}{15}&- \\frac{17}{15}\\\\ \\end{array} \\right]$</p>"
            ],
            "image/png": "$\\left[ \\begin{array}{cccc}1&\\frac{7}{5}&- \\frac{1}{5}&\\frac{6}{5}\\\\0&\\frac{8}{15}&\\frac{1}{15}&- \\frac{1}{15}\\\\0&- \\frac{14}{15}&\\frac{17}{15}&- \\frac{17}{15}\\\\ \\end{array} \\right]$",
            "text/latex": "$\\left[ \\begin{array}{cccc}1&\\frac{7}{5}&- \\frac{1}{5}&\\frac{6}{5}\\\\0&\\frac{8}{15}&\\frac{1}{15}&- \\frac{1}{15}\\\\0&- \\frac{14}{15}&\\frac{17}{15}&- \\frac{17}{15}\\\\ \\end{array} \\right]$"
          },
          "metadata": {},
          "execution_count": 37
        }
      ]
    },
    {
      "cell_type": "markdown",
      "source": [
        "$\\left[ \\begin{array}{cccc}1&\\frac{7}{5}&- \\frac{1}{5}&\\frac{6}{5}\\\\0&\\frac{8}{15}&\\frac{1}{15}&- \\frac{1}{15}\\\\0&- \\frac{14}{15}&\\frac{17}{15}&- \\frac{17}{15}\\\\ \\end{array} \\right]$"
      ],
      "metadata": {
        "id": "rjYnJVpMBoVW"
      }
    },
    {
      "cell_type": "code",
      "source": [
        "T((fracc(15,8),2))&S\n",
        "T((fracc(-7,5),2,1))&S\n",
        "T((fracc(14,15),2,3))&S\n",
        "T((fracc(4,5),3))&S"
      ],
      "metadata": {
        "colab": {
          "base_uri": "https://localhost:8080/",
          "height": 46
        },
        "id": "Qu4175HOBp_C",
        "outputId": "f30796bd-336b-4767-d885-811ed88c1355"
      },
      "execution_count": 38,
      "outputs": [
        {
          "output_type": "execute_result",
          "data": {
            "text/plain": [
              "Matrix([Vector([1, 0, 0]), Vector([0, 1, 0]), Vector([-3/8, 1/8, 1]), Vector([11/8, -1/8, -1])])"
            ],
            "text/html": [
              "<p style=\"text-align:center;\">$\\left[ \\begin{array}{cccc}1&0&- \\frac{3}{8}&\\frac{11}{8}\\\\0&1&\\frac{1}{8}&- \\frac{1}{8}\\\\0&0&1&-1\\\\ \\end{array} \\right]$</p>"
            ],
            "image/png": "$\\left[ \\begin{array}{cccc}1&0&- \\frac{3}{8}&\\frac{11}{8}\\\\0&1&\\frac{1}{8}&- \\frac{1}{8}\\\\0&0&1&-1\\\\ \\end{array} \\right]$",
            "text/latex": "$\\left[ \\begin{array}{cccc}1&0&- \\frac{3}{8}&\\frac{11}{8}\\\\0&1&\\frac{1}{8}&- \\frac{1}{8}\\\\0&0&1&-1\\\\ \\end{array} \\right]$"
          },
          "metadata": {},
          "execution_count": 38
        }
      ]
    },
    {
      "cell_type": "markdown",
      "source": [
        "$\\left[ \\begin{array}{cccc}1&0&- \\frac{3}{8}&\\frac{11}{8}\\\\0&1&\\frac{1}{8}&- \\frac{1}{8}\\\\0&0&1&-1\\\\ \\end{array} \\right]$"
      ],
      "metadata": {
        "id": "1eLsTVs0Bwj7"
      }
    },
    {
      "cell_type": "code",
      "source": [
        "T((fracc(-1,8),3,2))&S\n",
        "T((fracc(3,8),3,1))&S"
      ],
      "metadata": {
        "colab": {
          "base_uri": "https://localhost:8080/",
          "height": 46
        },
        "id": "SQu26ekaByeh",
        "outputId": "a8ac7d99-4232-4c3b-95f5-22ba326c1dba"
      },
      "execution_count": 39,
      "outputs": [
        {
          "output_type": "execute_result",
          "data": {
            "text/plain": [
              "Matrix([Vector([1, 0, 0]), Vector([0, 1, 0]), Vector([0, 0, 1]), Vector([1, 0, -1])])"
            ],
            "text/html": [
              "<p style=\"text-align:center;\">$\\left[ \\begin{array}{cccc}1&0&0&1\\\\0&1&0&0\\\\0&0&1&-1\\\\ \\end{array} \\right]$</p>"
            ],
            "image/png": "$\\left[ \\begin{array}{cccc}1&0&0&1\\\\0&1&0&0\\\\0&0&1&-1\\\\ \\end{array} \\right]$",
            "text/latex": "$\\left[ \\begin{array}{cccc}1&0&0&1\\\\0&1&0&0\\\\0&0&1&-1\\\\ \\end{array} \\right]$"
          },
          "metadata": {},
          "execution_count": 39
        }
      ]
    },
    {
      "cell_type": "markdown",
      "source": [
        "$\\left[ \\begin{array}{cccc}1&0&0&1\\\\0&1&0&0\\\\0&0&1&-1\\\\ \\end{array} \\right]$"
      ],
      "metadata": {
        "id": "h-Hvg-FsB4St"
      }
    },
    {
      "cell_type": "markdown",
      "source": [
        "1 es el valor de **X**, 0 el valor de **Y**, y -1 el valor de **Z**."
      ],
      "metadata": {
        "id": "E7SJStlzCGBC"
      }
    }
  ]
}