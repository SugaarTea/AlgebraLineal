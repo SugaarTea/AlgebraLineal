{
  "nbformat": 4,
  "nbformat_minor": 0,
  "metadata": {
    "colab": {
      "provenance": [],
      "authorship_tag": "ABX9TyN0+3FK4Zn6vKc1lyQfKJRc",
      "include_colab_link": true
    },
    "kernelspec": {
      "name": "python3",
      "display_name": "Python 3"
    },
    "language_info": {
      "name": "python"
    }
  },
  "cells": [
    {
      "cell_type": "markdown",
      "metadata": {
        "id": "view-in-github",
        "colab_type": "text"
      },
      "source": [
        "<a href=\"https://colab.research.google.com/github/SugaarTea/AlgebraLineal/blob/main/Trabajo%20tarea%20algebra%20ejercicos%20del%20libro%20pag.%208y9.ipynb\" target=\"_parent\"><img src=\"https://colab.research.google.com/assets/colab-badge.svg\" alt=\"Open In Colab\"/></a>"
      ]
    },
    {
      "cell_type": "code",
      "execution_count": 7,
      "metadata": {
        "id": "ghjbVJ6x7OU4",
        "colab": {
          "base_uri": "https://localhost:8080/"
        },
        "outputId": "6ee715a9-9f07-4e02-fe0e-2843487d997b"
      },
      "outputs": [
        {
          "output_type": "stream",
          "name": "stdout",
          "text": [
            "Mounted at /content/drive\n",
            "Collecting nacal\n",
            "  Downloading nacal-0.1.30-py3-none-any.whl (33 kB)\n",
            "Collecting sympy>=1.1.0 (from nacal)\n",
            "  Downloading sympy-1.12-py3-none-any.whl (5.7 MB)\n",
            "\u001b[2K     \u001b[90m━━━━━━━━━━━━━━━━━━━━━━━━━━━━━━━━━━━━━━━━\u001b[0m \u001b[32m5.7/5.7 MB\u001b[0m \u001b[31m58.6 MB/s\u001b[0m eta \u001b[36m0:00:00\u001b[0m\n",
            "\u001b[?25hCollecting mpmath>=0.19 (from sympy>=1.1.0->nacal)\n",
            "  Downloading mpmath-1.3.0-py3-none-any.whl (536 kB)\n",
            "\u001b[2K     \u001b[90m━━━━━━━━━━━━━━━━━━━━━━━━━━━━━━━━━━━━━━━━\u001b[0m \u001b[32m536.2/536.2 kB\u001b[0m \u001b[31m36.5 MB/s\u001b[0m eta \u001b[36m0:00:00\u001b[0m\n",
            "\u001b[?25hInstalling collected packages: mpmath, sympy, nacal\n",
            "\u001b[31mERROR: pip's dependency resolver does not currently take into account all the packages that are installed. This behaviour is the source of the following dependency conflicts.\n",
            "torch 2.2.1+cu121 requires nvidia-cublas-cu12==12.1.3.1; platform_system == \"Linux\" and platform_machine == \"x86_64\", which is not installed.\n",
            "torch 2.2.1+cu121 requires nvidia-cuda-cupti-cu12==12.1.105; platform_system == \"Linux\" and platform_machine == \"x86_64\", which is not installed.\n",
            "torch 2.2.1+cu121 requires nvidia-cuda-nvrtc-cu12==12.1.105; platform_system == \"Linux\" and platform_machine == \"x86_64\", which is not installed.\n",
            "torch 2.2.1+cu121 requires nvidia-cuda-runtime-cu12==12.1.105; platform_system == \"Linux\" and platform_machine == \"x86_64\", which is not installed.\n",
            "torch 2.2.1+cu121 requires nvidia-cudnn-cu12==8.9.2.26; platform_system == \"Linux\" and platform_machine == \"x86_64\", which is not installed.\n",
            "torch 2.2.1+cu121 requires nvidia-cufft-cu12==11.0.2.54; platform_system == \"Linux\" and platform_machine == \"x86_64\", which is not installed.\n",
            "torch 2.2.1+cu121 requires nvidia-curand-cu12==10.3.2.106; platform_system == \"Linux\" and platform_machine == \"x86_64\", which is not installed.\n",
            "torch 2.2.1+cu121 requires nvidia-cusolver-cu12==11.4.5.107; platform_system == \"Linux\" and platform_machine == \"x86_64\", which is not installed.\n",
            "torch 2.2.1+cu121 requires nvidia-cusparse-cu12==12.1.0.106; platform_system == \"Linux\" and platform_machine == \"x86_64\", which is not installed.\n",
            "torch 2.2.1+cu121 requires nvidia-nccl-cu12==2.19.3; platform_system == \"Linux\" and platform_machine == \"x86_64\", which is not installed.\n",
            "torch 2.2.1+cu121 requires nvidia-nvtx-cu12==12.1.105; platform_system == \"Linux\" and platform_machine == \"x86_64\", which is not installed.\u001b[0m\u001b[31m\n",
            "\u001b[0mSuccessfully installed mpmath-1.3.0 nacal-0.1.30 sympy-1.12\n",
            "\u001b[33mWARNING: Target directory /content/notebooks/__pycache__ already exists. Specify --upgrade to force replacement.\u001b[0m\u001b[33m\n",
            "\u001b[0m\u001b[33mWARNING: Target directory /content/notebooks/nacal already exists. Specify --upgrade to force replacement.\u001b[0m\u001b[33m\n",
            "\u001b[0m\u001b[33mWARNING: Target directory /content/notebooks/sympy already exists. Specify --upgrade to force replacement.\u001b[0m\u001b[33m\n",
            "\u001b[0m\u001b[33mWARNING: Target directory /content/notebooks/sympy-1.12.dist-info already exists. Specify --upgrade to force replacement.\u001b[0m\u001b[33m\n",
            "\u001b[0m\u001b[33mWARNING: Target directory /content/notebooks/mpmath-1.3.0.dist-info already exists. Specify --upgrade to force replacement.\u001b[0m\u001b[33m\n",
            "\u001b[0m\u001b[33mWARNING: Target directory /content/notebooks/nacal-0.1.30.dist-info already exists. Specify --upgrade to force replacement.\u001b[0m\u001b[33m\n",
            "\u001b[0m\u001b[33mWARNING: Target directory /content/notebooks/mpmath already exists. Specify --upgrade to force replacement.\u001b[0m\u001b[33m\n",
            "\u001b[0m\u001b[33mWARNING: Target directory /content/notebooks/isympy.py already exists. Specify --upgrade to force replacement.\u001b[0m\u001b[33m\n",
            "\u001b[0m\u001b[33mWARNING: Target directory /content/notebooks/bin already exists. Specify --upgrade to force replacement.\u001b[0m\u001b[33m\n",
            "\u001b[0m\u001b[33mWARNING: Target directory /content/notebooks/share already exists. Specify --upgrade to force replacement.\u001b[0m\u001b[33m\n",
            "\u001b[0m"
          ]
        }
      ],
      "source": [
        "import os, sys\n",
        "from google.colab import drive\n",
        "drive.mount('/content/drive')\n",
        "nb_path = '/content/notebooks'\n",
        "os.symlink('/content/drive/My Drive/Colab Notebooks', nb_path)\n",
        "sys.path.insert(0,nb_path)\n",
        "!pip install --target=$nb_path nacal"
      ]
    },
    {
      "cell_type": "markdown",
      "source": [
        "Preguntas de la pag. 8 y 9"
      ],
      "metadata": {
        "id": "v2c4GAyX-ZEy"
      }
    },
    {
      "cell_type": "code",
      "source": [
        "from nacal import *\n",
        "from IPython.display import display, Math, Latex\n",
        "b = Vector( [0, 4, 6] )\n",
        "print(2*b)\n",
        "latex(2*b)"
      ],
      "metadata": {
        "colab": {
          "base_uri": "https://localhost:8080/",
          "height": 53
        },
        "id": "Xa-JDWSS-fP2",
        "outputId": "d5a79704-4f08-4b5e-9917-8ca0c5c23ed3"
      },
      "execution_count": 8,
      "outputs": [
        {
          "output_type": "stream",
          "name": "stdout",
          "text": [
            "Vector([0, 8, 12])\n"
          ]
        },
        {
          "output_type": "execute_result",
          "data": {
            "text/plain": [
              "'\\\\begin{pmatrix}0\\\\\\\\ 8\\\\\\\\ 12\\\\end{pmatrix}'"
            ],
            "application/vnd.google.colaboratory.intrinsic+json": {
              "type": "string"
            }
          },
          "metadata": {},
          "execution_count": 8
        }
      ]
    },
    {
      "cell_type": "markdown",
      "source": [
        "Pregunta1"
      ],
      "metadata": {
        "id": "u9Z-eExqAvIu"
      }
    },
    {
      "cell_type": "code",
      "source": [
        "a = Vector( [1, 2, 3] )\n",
        "b = Vector( [4, 5, 6] )\n",
        "latex(a+b)\n",
        "latex(b+a)"
      ],
      "metadata": {
        "colab": {
          "base_uri": "https://localhost:8080/",
          "height": 35
        },
        "id": "ZMtDneEMA3SE",
        "outputId": "3fe4278c-8d08-476c-9e8b-fe01df8a8a07"
      },
      "execution_count": 9,
      "outputs": [
        {
          "output_type": "execute_result",
          "data": {
            "text/plain": [
              "'\\\\begin{pmatrix}5\\\\\\\\ 7\\\\\\\\ 9\\\\end{pmatrix}'"
            ],
            "application/vnd.google.colaboratory.intrinsic+json": {
              "type": "string"
            }
          },
          "metadata": {},
          "execution_count": 9
        }
      ]
    },
    {
      "cell_type": "markdown",
      "source": [
        "P2"
      ],
      "metadata": {
        "id": "6NHcsH6jA-I-"
      }
    },
    {
      "cell_type": "code",
      "source": [
        "a=Vector([1,2])\n",
        "b=Vector([4,5])\n",
        "c=Vector([1,0])\n",
        "latex(a+(b+c))\n",
        "latex((a+b)+c)"
      ],
      "metadata": {
        "colab": {
          "base_uri": "https://localhost:8080/",
          "height": 35
        },
        "id": "HvdNv1sABA8C",
        "outputId": "d0b3890d-0fba-495b-a73a-a96c2afa5543"
      },
      "execution_count": 11,
      "outputs": [
        {
          "output_type": "execute_result",
          "data": {
            "text/plain": [
              "'\\\\begin{pmatrix}6\\\\\\\\ 7\\\\end{pmatrix}'"
            ],
            "application/vnd.google.colaboratory.intrinsic+json": {
              "type": "string"
            }
          },
          "metadata": {},
          "execution_count": 11
        }
      ]
    },
    {
      "cell_type": "markdown",
      "source": [
        "P3"
      ],
      "metadata": {
        "id": "R8uUh2DiBJGq"
      }
    },
    {
      "cell_type": "code",
      "source": [
        "a=Vector([4,5,6])\n",
        "b=Vector([7,8,9])\n",
        "c=Vector([0,0,0])\n",
        "latex(a+c)\n",
        "latex(b+c)"
      ],
      "metadata": {
        "colab": {
          "base_uri": "https://localhost:8080/",
          "height": 35
        },
        "id": "Paa5aHAQBKlL",
        "outputId": "137ca456-29d0-4f5e-de67-3c032cb810b9"
      },
      "execution_count": 12,
      "outputs": [
        {
          "output_type": "execute_result",
          "data": {
            "text/plain": [
              "'\\\\begin{pmatrix}7\\\\\\\\ 8\\\\\\\\ 9\\\\end{pmatrix}'"
            ],
            "application/vnd.google.colaboratory.intrinsic+json": {
              "type": "string"
            }
          },
          "metadata": {},
          "execution_count": 12
        }
      ]
    },
    {
      "cell_type": "markdown",
      "source": [
        "P4"
      ],
      "metadata": {
        "id": "gE5NoJnEBfrE"
      }
    },
    {
      "cell_type": "code",
      "source": [
        "a=Vector([4,5,6])\n",
        "b=Vector([-4,-5,-6])\n",
        "latex(a+b)"
      ],
      "metadata": {
        "colab": {
          "base_uri": "https://localhost:8080/",
          "height": 35
        },
        "id": "xi5n0UmPBg6I",
        "outputId": "54b4a265-5a73-4658-a221-e6ace08f1cec"
      },
      "execution_count": 14,
      "outputs": [
        {
          "output_type": "execute_result",
          "data": {
            "text/plain": [
              "'\\\\begin{pmatrix}0\\\\\\\\ 0\\\\\\\\ 0\\\\end{pmatrix}'"
            ],
            "application/vnd.google.colaboratory.intrinsic+json": {
              "type": "string"
            }
          },
          "metadata": {},
          "execution_count": 14
        }
      ]
    },
    {
      "cell_type": "markdown",
      "source": [
        "P5"
      ],
      "metadata": {
        "id": "nRiE2U2kBkqh"
      }
    },
    {
      "cell_type": "code",
      "source": [
        "a=Vector([1,-1])\n",
        "b=Vector([4,5])\n",
        "latex(2*(a+b))\n",
        "latex((2*a)+(2*b))"
      ],
      "metadata": {
        "colab": {
          "base_uri": "https://localhost:8080/",
          "height": 35
        },
        "id": "deyvKZ0RBl9e",
        "outputId": "e47a6bd7-0ffd-4be9-b6d6-b49412c62716"
      },
      "execution_count": 13,
      "outputs": [
        {
          "output_type": "execute_result",
          "data": {
            "text/plain": [
              "'\\\\begin{pmatrix}10\\\\\\\\ 8\\\\end{pmatrix}'"
            ],
            "application/vnd.google.colaboratory.intrinsic+json": {
              "type": "string"
            }
          },
          "metadata": {},
          "execution_count": 13
        }
      ]
    },
    {
      "cell_type": "markdown",
      "source": [
        "P6"
      ],
      "metadata": {
        "id": "837L_zGIBuje"
      }
    },
    {
      "cell_type": "code",
      "source": [
        "a=Vector([1,2,3])\n",
        "latex((2+3)*a)\n",
        "latex((2*a)+(3*a))"
      ],
      "metadata": {
        "colab": {
          "base_uri": "https://localhost:8080/",
          "height": 35
        },
        "id": "ovJ9ARDnBwI8",
        "outputId": "556f2a5d-ed93-4909-a03d-b8d007745e61"
      },
      "execution_count": 15,
      "outputs": [
        {
          "output_type": "execute_result",
          "data": {
            "text/plain": [
              "'\\\\begin{pmatrix}5\\\\\\\\ 10\\\\\\\\ 15\\\\end{pmatrix}'"
            ],
            "application/vnd.google.colaboratory.intrinsic+json": {
              "type": "string"
            }
          },
          "metadata": {},
          "execution_count": 15
        }
      ]
    },
    {
      "cell_type": "markdown",
      "source": [
        "P7"
      ],
      "metadata": {
        "id": "WbwVtRI0B0Bj"
      }
    },
    {
      "cell_type": "code",
      "source": [
        "a=Vector([1,2])\n",
        "latex((2*(3*a)))\n",
        "latex((2*3)*a)"
      ],
      "metadata": {
        "colab": {
          "base_uri": "https://localhost:8080/",
          "height": 35
        },
        "id": "OTS8F0ouB1Ot",
        "outputId": "575bfd21-019c-45be-ac4a-c8b43d98c4ce"
      },
      "execution_count": 16,
      "outputs": [
        {
          "output_type": "execute_result",
          "data": {
            "text/plain": [
              "'\\\\begin{pmatrix}6\\\\\\\\ 12\\\\end{pmatrix}'"
            ],
            "application/vnd.google.colaboratory.intrinsic+json": {
              "type": "string"
            }
          },
          "metadata": {},
          "execution_count": 16
        }
      ]
    },
    {
      "cell_type": "markdown",
      "source": [
        "P8"
      ],
      "metadata": {
        "id": "5FUsnncfB7Um"
      }
    },
    {
      "cell_type": "code",
      "source": [
        "a=Vector([1,2,3])\n",
        "latex(1*a)"
      ],
      "metadata": {
        "colab": {
          "base_uri": "https://localhost:8080/",
          "height": 35
        },
        "id": "p8SwpUq2B8nO",
        "outputId": "40db4eac-4357-4b29-d858-ec85eb54077a"
      },
      "execution_count": 17,
      "outputs": [
        {
          "output_type": "execute_result",
          "data": {
            "text/plain": [
              "'\\\\begin{pmatrix}1\\\\\\\\ 2\\\\\\\\ 3\\\\end{pmatrix}'"
            ],
            "application/vnd.google.colaboratory.intrinsic+json": {
              "type": "string"
            }
          },
          "metadata": {},
          "execution_count": 17
        }
      ]
    }
  ]
}