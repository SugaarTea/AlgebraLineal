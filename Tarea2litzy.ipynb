{
  "nbformat": 4,
  "nbformat_minor": 0,
  "metadata": {
    "colab": {
      "provenance": [],
      "authorship_tag": "ABX9TyOZa06LyoqbdYZjQj7QhDWa",
      "include_colab_link": true
    },
    "kernelspec": {
      "name": "python3",
      "display_name": "Python 3"
    },
    "language_info": {
      "name": "python"
    }
  },
  "cells": [
    {
      "cell_type": "markdown",
      "metadata": {
        "id": "view-in-github",
        "colab_type": "text"
      },
      "source": [
        "<a href=\"https://colab.research.google.com/github/SugaarTea/AlgebraLineal/blob/main/Tarea2litzy.ipynb\" target=\"_parent\"><img src=\"https://colab.research.google.com/assets/colab-badge.svg\" alt=\"Open In Colab\"/></a>"
      ]
    },
    {
      "cell_type": "code",
      "execution_count": 1,
      "metadata": {
        "colab": {
          "base_uri": "https://localhost:8080/"
        },
        "id": "SySx0C-hdaDQ",
        "outputId": "77b2593c-f4c1-42f7-ff40-2973787342d4"
      },
      "outputs": [
        {
          "output_type": "stream",
          "name": "stdout",
          "text": [
            "Collecting nacal\n",
            "  Downloading nacal-0.2.1-py3-none-any.whl (40 kB)\n",
            "\u001b[2K     \u001b[90m━━━━━━━━━━━━━━━━━━━━━━━━━━━━━━━━━━━━━━━━\u001b[0m \u001b[32m40.0/40.0 kB\u001b[0m \u001b[31m600.6 kB/s\u001b[0m eta \u001b[36m0:00:00\u001b[0m\n",
            "\u001b[?25hRequirement already satisfied: sympy>=1.1.0 in /usr/local/lib/python3.10/dist-packages (from nacal) (1.12.1)\n",
            "Requirement already satisfied: mpmath<1.4.0,>=1.1.0 in /usr/local/lib/python3.10/dist-packages (from sympy>=1.1.0->nacal) (1.3.0)\n",
            "Installing collected packages: nacal\n",
            "Successfully installed nacal-0.2.1\n"
          ]
        }
      ],
      "source": [
        "!pip install --target=$nb_path nacal\n",
        "from nacal import *"
      ]
    },
    {
      "cell_type": "markdown",
      "source": [
        "**¿Cómo evalúa el módulo NAcAL las siguientes expresiones?**"
      ],
      "metadata": {
        "id": "evD82vgPdoxN"
      }
    },
    {
      "cell_type": "markdown",
      "source": [
        "$\\begin{pmatrix}\n",
        "4\\\\\n",
        "5\\\\\n",
        "6\\\\\n",
        "\\end{pmatrix}\n",
        "+\n",
        "\\begin{pmatrix}\n",
        "-4\\\\\n",
        "-5\\\\\n",
        "-6\\\\\n",
        "\\end{pmatrix}\n",
        "=\n",
        "\\begin{pmatrix}\n",
        "0\\\\\n",
        "0\\\\\n",
        "0\\\\\n",
        "\\end{pmatrix}\n",
        "?\n",
        "$"
      ],
      "metadata": {
        "id": "nF2Ie0kzXDLg"
      }
    },
    {
      "cell_type": "code",
      "source": [
        "a = Vector ([4, 5, 6])\n",
        "a"
      ],
      "metadata": {
        "colab": {
          "base_uri": "https://localhost:8080/",
          "height": 46
        },
        "id": "KTm2phZMegAo",
        "outputId": "06f990b8-adb7-43f2-f811-0106f97abe1a"
      },
      "execution_count": 5,
      "outputs": [
        {
          "output_type": "execute_result",
          "data": {
            "text/plain": [
              "Vector([4, 5, 6])"
            ],
            "text/html": [
              "<p style=\"text-align:center;\">$\\begin{pmatrix}4\\\\ 5\\\\ 6\\end{pmatrix}$</p>"
            ],
            "image/png": "$\\begin{pmatrix}4\\\\ 5\\\\ 6\\end{pmatrix}$",
            "text/latex": "$\\begin{pmatrix}4\\\\ 5\\\\ 6\\end{pmatrix}$"
          },
          "metadata": {},
          "execution_count": 5
        }
      ]
    },
    {
      "cell_type": "code",
      "source": [
        "b = Vector ([-4, -5, -6])\n",
        "b"
      ],
      "metadata": {
        "colab": {
          "base_uri": "https://localhost:8080/",
          "height": 46
        },
        "id": "A5WQ8cA4ekzc",
        "outputId": "c402bbc9-fe01-4b75-ed5f-8c35cc702dd9"
      },
      "execution_count": 6,
      "outputs": [
        {
          "output_type": "execute_result",
          "data": {
            "text/plain": [
              "Vector([-4, -5, -6])"
            ],
            "text/html": [
              "<p style=\"text-align:center;\">$\\begin{pmatrix}-4\\\\ -5\\\\ -6\\end{pmatrix}$</p>"
            ],
            "image/png": "$\\begin{pmatrix}-4\\\\ -5\\\\ -6\\end{pmatrix}$",
            "text/latex": "$\\begin{pmatrix}-4\\\\ -5\\\\ -6\\end{pmatrix}$"
          },
          "metadata": {},
          "execution_count": 6
        }
      ]
    },
    {
      "cell_type": "code",
      "source": [
        "print(a+b)"
      ],
      "metadata": {
        "colab": {
          "base_uri": "https://localhost:8080/"
        },
        "id": "izsWnTTgewbG",
        "outputId": "7ec2c228-1c61-40ba-8f74-69efc171d569"
      },
      "execution_count": 7,
      "outputs": [
        {
          "output_type": "stream",
          "name": "stdout",
          "text": [
            "(0, 0, 0,)\n"
          ]
        }
      ]
    },
    {
      "cell_type": "markdown",
      "source": [
        "**Problema Numero 6**\n"
      ],
      "metadata": {
        "id": "OUyqWJ7afLEj"
      }
    },
    {
      "cell_type": "markdown",
      "source": [
        "$(2+3)\n",
        "\\begin{pmatrix}\n",
        "1\\\\\n",
        "2\\\\\n",
        "3\\\\\n",
        "\\end{pmatrix}\n",
        "=\n",
        "2\n",
        "\\begin{pmatrix}\n",
        "1\\\\\n",
        "2\\\\\n",
        "3\\\\\n",
        "\\end{pmatrix}\n",
        "+\n",
        "3\n",
        "\\begin{pmatrix}\n",
        "1\\\\\n",
        "2\\\\\n",
        "3\\\\\n",
        "\\end{pmatrix}\n",
        "?\n",
        "$"
      ],
      "metadata": {
        "id": "_Rwdq7FsZCo8"
      }
    },
    {
      "cell_type": "code",
      "source": [
        "a = Vector ([1, 2, 3])\n",
        "a"
      ],
      "metadata": {
        "colab": {
          "base_uri": "https://localhost:8080/",
          "height": 46
        },
        "id": "8xq0h1TwfoEY",
        "outputId": "60325c9c-83a8-413e-9584-6050ec647e5a"
      },
      "execution_count": 8,
      "outputs": [
        {
          "output_type": "execute_result",
          "data": {
            "text/plain": [
              "Vector([1, 2, 3])"
            ],
            "text/html": [
              "<p style=\"text-align:center;\">$\\begin{pmatrix}1\\\\ 2\\\\ 3\\end{pmatrix}$</p>"
            ],
            "image/png": "$\\begin{pmatrix}1\\\\ 2\\\\ 3\\end{pmatrix}$",
            "text/latex": "$\\begin{pmatrix}1\\\\ 2\\\\ 3\\end{pmatrix}$"
          },
          "metadata": {},
          "execution_count": 8
        }
      ]
    },
    {
      "cell_type": "code",
      "source": [
        "print((2+3)*(a))"
      ],
      "metadata": {
        "colab": {
          "base_uri": "https://localhost:8080/"
        },
        "id": "4dX6KoVbgqmZ",
        "outputId": "ee9cd106-59b7-4079-8d00-49dc49421dfa"
      },
      "execution_count": 9,
      "outputs": [
        {
          "output_type": "stream",
          "name": "stdout",
          "text": [
            "(5, 10, 15,)\n"
          ]
        }
      ]
    }
  ]
}